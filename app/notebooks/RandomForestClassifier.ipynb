{
  "cells": [
    {
      "cell_type": "markdown",
      "metadata": {
        "id": "view-in-github",
        "colab_type": "text"
      },
      "source": [
        "<a href=\"https://colab.research.google.com/github/hariskhan-hk/Churn_pred/blob/main/app/notebooks/RandomForestClassifier.ipynb\" target=\"_parent\"><img src=\"https://colab.research.google.com/assets/colab-badge.svg\" alt=\"Open In Colab\"/></a>"
      ]
    },
    {
      "cell_type": "markdown",
      "id": "5bb63905-d7a6-4b7f-8b73-bd404f22252e",
      "metadata": {
        "id": "5bb63905-d7a6-4b7f-8b73-bd404f22252e"
      },
      "source": [
        "## Importing Libraries"
      ]
    },
    {
      "cell_type": "code",
      "execution_count": 3,
      "id": "e0bc76d9-2b72-4576-958b-ac3170bf378b",
      "metadata": {
        "id": "e0bc76d9-2b72-4576-958b-ac3170bf378b"
      },
      "outputs": [],
      "source": [
        "import pandas as pd\n",
        "from sklearn import metrics\n",
        "from sklearn.metrics import mean_squared_error, recall_score, classification_report, accuracy_score, confusion_matrix\n",
        "from sklearn.ensemble import RandomForestClassifier\n",
        "from sklearn.model_selection import train_test_split\n",
        "from imblearn.combine import SMOTEENN\n",
        "from imblearn.over_sampling import SMOTE\n",
        "import numpy as np\n",
        "import matplotlib.pyplot as plt\n",
        "import seaborn as sns"
      ]
    },
    {
      "cell_type": "markdown",
      "id": "987fcfaf-0dec-4c06-91da-392c9aa013e6",
      "metadata": {
        "id": "987fcfaf-0dec-4c06-91da-392c9aa013e6"
      },
      "source": [
        "## Load Dataset"
      ]
    },
    {
      "cell_type": "code",
      "execution_count": 4,
      "id": "aeca33ca-8e0e-481e-814e-b2a4fabf43ab",
      "metadata": {
        "id": "aeca33ca-8e0e-481e-814e-b2a4fabf43ab",
        "outputId": "c5bbea66-cd2e-40ee-d074-b986536c2afd",
        "colab": {
          "base_uri": "https://localhost:8080/",
          "height": 290
        }
      },
      "outputs": [
        {
          "output_type": "execute_result",
          "data": {
            "text/plain": [
              "   SeniorCitizen  MonthlyCharges  TotalCharges  Churn  gender_Male  \\\n",
              "0              0           29.85         29.85      0            0   \n",
              "1              0           56.95       1889.50      0            1   \n",
              "2              0           53.85        108.15      1            1   \n",
              "3              0           42.30       1840.75      0            1   \n",
              "4              0           70.70        151.65      1            0   \n",
              "\n",
              "   Partner_No  Partner_Yes  Dependents_Yes  PhoneService_Yes  \\\n",
              "0           0            1               0                 0   \n",
              "1           1            0               0                 1   \n",
              "2           1            0               0                 1   \n",
              "3           1            0               0                 0   \n",
              "4           1            0               0                 1   \n",
              "\n",
              "   MultipleLines_No phone service  ...  PaperlessBilling_No  \\\n",
              "0                               1  ...                    0   \n",
              "1                               0  ...                    1   \n",
              "2                               0  ...                    0   \n",
              "3                               1  ...                    1   \n",
              "4                               0  ...                    0   \n",
              "\n",
              "   PaymentMethod_Bank transfer (automatic)  \\\n",
              "0                                        0   \n",
              "1                                        0   \n",
              "2                                        0   \n",
              "3                                        1   \n",
              "4                                        0   \n",
              "\n",
              "   PaymentMethod_Credit card (automatic)  PaymentMethod_Electronic check  \\\n",
              "0                                      0                               1   \n",
              "1                                      0                               0   \n",
              "2                                      0                               0   \n",
              "3                                      0                               0   \n",
              "4                                      0                               1   \n",
              "\n",
              "   tenure_group_1 - 12  tenure_group_13 - 24  tenure_group_25 - 36  \\\n",
              "0                    1                     0                     0   \n",
              "1                    0                     0                     1   \n",
              "2                    1                     0                     0   \n",
              "3                    0                     0                     0   \n",
              "4                    1                     0                     0   \n",
              "\n",
              "   tenure_group_37 - 48  tenure_group_49 - 60  tenure_group_61 - 72  \n",
              "0                     0                     0                     0  \n",
              "1                     0                     0                     0  \n",
              "2                     0                     0                     0  \n",
              "3                     1                     0                     0  \n",
              "4                     0                     0                     0  \n",
              "\n",
              "[5 rows x 37 columns]"
            ],
            "text/html": [
              "\n",
              "  <div id=\"df-6163e88d-bdec-4d81-8471-fdfa08bebf45\" class=\"colab-df-container\">\n",
              "    <div>\n",
              "<style scoped>\n",
              "    .dataframe tbody tr th:only-of-type {\n",
              "        vertical-align: middle;\n",
              "    }\n",
              "\n",
              "    .dataframe tbody tr th {\n",
              "        vertical-align: top;\n",
              "    }\n",
              "\n",
              "    .dataframe thead th {\n",
              "        text-align: right;\n",
              "    }\n",
              "</style>\n",
              "<table border=\"1\" class=\"dataframe\">\n",
              "  <thead>\n",
              "    <tr style=\"text-align: right;\">\n",
              "      <th></th>\n",
              "      <th>SeniorCitizen</th>\n",
              "      <th>MonthlyCharges</th>\n",
              "      <th>TotalCharges</th>\n",
              "      <th>Churn</th>\n",
              "      <th>gender_Male</th>\n",
              "      <th>Partner_No</th>\n",
              "      <th>Partner_Yes</th>\n",
              "      <th>Dependents_Yes</th>\n",
              "      <th>PhoneService_Yes</th>\n",
              "      <th>MultipleLines_No phone service</th>\n",
              "      <th>...</th>\n",
              "      <th>PaperlessBilling_No</th>\n",
              "      <th>PaymentMethod_Bank transfer (automatic)</th>\n",
              "      <th>PaymentMethod_Credit card (automatic)</th>\n",
              "      <th>PaymentMethod_Electronic check</th>\n",
              "      <th>tenure_group_1 - 12</th>\n",
              "      <th>tenure_group_13 - 24</th>\n",
              "      <th>tenure_group_25 - 36</th>\n",
              "      <th>tenure_group_37 - 48</th>\n",
              "      <th>tenure_group_49 - 60</th>\n",
              "      <th>tenure_group_61 - 72</th>\n",
              "    </tr>\n",
              "  </thead>\n",
              "  <tbody>\n",
              "    <tr>\n",
              "      <th>0</th>\n",
              "      <td>0</td>\n",
              "      <td>29.85</td>\n",
              "      <td>29.85</td>\n",
              "      <td>0</td>\n",
              "      <td>0</td>\n",
              "      <td>0</td>\n",
              "      <td>1</td>\n",
              "      <td>0</td>\n",
              "      <td>0</td>\n",
              "      <td>1</td>\n",
              "      <td>...</td>\n",
              "      <td>0</td>\n",
              "      <td>0</td>\n",
              "      <td>0</td>\n",
              "      <td>1</td>\n",
              "      <td>1</td>\n",
              "      <td>0</td>\n",
              "      <td>0</td>\n",
              "      <td>0</td>\n",
              "      <td>0</td>\n",
              "      <td>0</td>\n",
              "    </tr>\n",
              "    <tr>\n",
              "      <th>1</th>\n",
              "      <td>0</td>\n",
              "      <td>56.95</td>\n",
              "      <td>1889.50</td>\n",
              "      <td>0</td>\n",
              "      <td>1</td>\n",
              "      <td>1</td>\n",
              "      <td>0</td>\n",
              "      <td>0</td>\n",
              "      <td>1</td>\n",
              "      <td>0</td>\n",
              "      <td>...</td>\n",
              "      <td>1</td>\n",
              "      <td>0</td>\n",
              "      <td>0</td>\n",
              "      <td>0</td>\n",
              "      <td>0</td>\n",
              "      <td>0</td>\n",
              "      <td>1</td>\n",
              "      <td>0</td>\n",
              "      <td>0</td>\n",
              "      <td>0</td>\n",
              "    </tr>\n",
              "    <tr>\n",
              "      <th>2</th>\n",
              "      <td>0</td>\n",
              "      <td>53.85</td>\n",
              "      <td>108.15</td>\n",
              "      <td>1</td>\n",
              "      <td>1</td>\n",
              "      <td>1</td>\n",
              "      <td>0</td>\n",
              "      <td>0</td>\n",
              "      <td>1</td>\n",
              "      <td>0</td>\n",
              "      <td>...</td>\n",
              "      <td>0</td>\n",
              "      <td>0</td>\n",
              "      <td>0</td>\n",
              "      <td>0</td>\n",
              "      <td>1</td>\n",
              "      <td>0</td>\n",
              "      <td>0</td>\n",
              "      <td>0</td>\n",
              "      <td>0</td>\n",
              "      <td>0</td>\n",
              "    </tr>\n",
              "    <tr>\n",
              "      <th>3</th>\n",
              "      <td>0</td>\n",
              "      <td>42.30</td>\n",
              "      <td>1840.75</td>\n",
              "      <td>0</td>\n",
              "      <td>1</td>\n",
              "      <td>1</td>\n",
              "      <td>0</td>\n",
              "      <td>0</td>\n",
              "      <td>0</td>\n",
              "      <td>1</td>\n",
              "      <td>...</td>\n",
              "      <td>1</td>\n",
              "      <td>1</td>\n",
              "      <td>0</td>\n",
              "      <td>0</td>\n",
              "      <td>0</td>\n",
              "      <td>0</td>\n",
              "      <td>0</td>\n",
              "      <td>1</td>\n",
              "      <td>0</td>\n",
              "      <td>0</td>\n",
              "    </tr>\n",
              "    <tr>\n",
              "      <th>4</th>\n",
              "      <td>0</td>\n",
              "      <td>70.70</td>\n",
              "      <td>151.65</td>\n",
              "      <td>1</td>\n",
              "      <td>0</td>\n",
              "      <td>1</td>\n",
              "      <td>0</td>\n",
              "      <td>0</td>\n",
              "      <td>1</td>\n",
              "      <td>0</td>\n",
              "      <td>...</td>\n",
              "      <td>0</td>\n",
              "      <td>0</td>\n",
              "      <td>0</td>\n",
              "      <td>1</td>\n",
              "      <td>1</td>\n",
              "      <td>0</td>\n",
              "      <td>0</td>\n",
              "      <td>0</td>\n",
              "      <td>0</td>\n",
              "      <td>0</td>\n",
              "    </tr>\n",
              "  </tbody>\n",
              "</table>\n",
              "<p>5 rows × 37 columns</p>\n",
              "</div>\n",
              "    <div class=\"colab-df-buttons\">\n",
              "\n",
              "  <div class=\"colab-df-container\">\n",
              "    <button class=\"colab-df-convert\" onclick=\"convertToInteractive('df-6163e88d-bdec-4d81-8471-fdfa08bebf45')\"\n",
              "            title=\"Convert this dataframe to an interactive table.\"\n",
              "            style=\"display:none;\">\n",
              "\n",
              "  <svg xmlns=\"http://www.w3.org/2000/svg\" height=\"24px\" viewBox=\"0 -960 960 960\">\n",
              "    <path d=\"M120-120v-720h720v720H120Zm60-500h600v-160H180v160Zm220 220h160v-160H400v160Zm0 220h160v-160H400v160ZM180-400h160v-160H180v160Zm440 0h160v-160H620v160ZM180-180h160v-160H180v160Zm440 0h160v-160H620v160Z\"/>\n",
              "  </svg>\n",
              "    </button>\n",
              "\n",
              "  <style>\n",
              "    .colab-df-container {\n",
              "      display:flex;\n",
              "      gap: 12px;\n",
              "    }\n",
              "\n",
              "    .colab-df-convert {\n",
              "      background-color: #E8F0FE;\n",
              "      border: none;\n",
              "      border-radius: 50%;\n",
              "      cursor: pointer;\n",
              "      display: none;\n",
              "      fill: #1967D2;\n",
              "      height: 32px;\n",
              "      padding: 0 0 0 0;\n",
              "      width: 32px;\n",
              "    }\n",
              "\n",
              "    .colab-df-convert:hover {\n",
              "      background-color: #E2EBFA;\n",
              "      box-shadow: 0px 1px 2px rgba(60, 64, 67, 0.3), 0px 1px 3px 1px rgba(60, 64, 67, 0.15);\n",
              "      fill: #174EA6;\n",
              "    }\n",
              "\n",
              "    .colab-df-buttons div {\n",
              "      margin-bottom: 4px;\n",
              "    }\n",
              "\n",
              "    [theme=dark] .colab-df-convert {\n",
              "      background-color: #3B4455;\n",
              "      fill: #D2E3FC;\n",
              "    }\n",
              "\n",
              "    [theme=dark] .colab-df-convert:hover {\n",
              "      background-color: #434B5C;\n",
              "      box-shadow: 0px 1px 3px 1px rgba(0, 0, 0, 0.15);\n",
              "      filter: drop-shadow(0px 1px 2px rgba(0, 0, 0, 0.3));\n",
              "      fill: #FFFFFF;\n",
              "    }\n",
              "  </style>\n",
              "\n",
              "    <script>\n",
              "      const buttonEl =\n",
              "        document.querySelector('#df-6163e88d-bdec-4d81-8471-fdfa08bebf45 button.colab-df-convert');\n",
              "      buttonEl.style.display =\n",
              "        google.colab.kernel.accessAllowed ? 'block' : 'none';\n",
              "\n",
              "      async function convertToInteractive(key) {\n",
              "        const element = document.querySelector('#df-6163e88d-bdec-4d81-8471-fdfa08bebf45');\n",
              "        const dataTable =\n",
              "          await google.colab.kernel.invokeFunction('convertToInteractive',\n",
              "                                                    [key], {});\n",
              "        if (!dataTable) return;\n",
              "\n",
              "        const docLinkHtml = 'Like what you see? Visit the ' +\n",
              "          '<a target=\"_blank\" href=https://colab.research.google.com/notebooks/data_table.ipynb>data table notebook</a>'\n",
              "          + ' to learn more about interactive tables.';\n",
              "        element.innerHTML = '';\n",
              "        dataTable['output_type'] = 'display_data';\n",
              "        await google.colab.output.renderOutput(dataTable, element);\n",
              "        const docLink = document.createElement('div');\n",
              "        docLink.innerHTML = docLinkHtml;\n",
              "        element.appendChild(docLink);\n",
              "      }\n",
              "    </script>\n",
              "  </div>\n",
              "\n",
              "\n",
              "<div id=\"df-61bdadf2-fcaa-4c4f-a7b6-9e30d3a3350a\">\n",
              "  <button class=\"colab-df-quickchart\" onclick=\"quickchart('df-61bdadf2-fcaa-4c4f-a7b6-9e30d3a3350a')\"\n",
              "            title=\"Suggest charts\"\n",
              "            style=\"display:none;\">\n",
              "\n",
              "<svg xmlns=\"http://www.w3.org/2000/svg\" height=\"24px\"viewBox=\"0 0 24 24\"\n",
              "     width=\"24px\">\n",
              "    <g>\n",
              "        <path d=\"M19 3H5c-1.1 0-2 .9-2 2v14c0 1.1.9 2 2 2h14c1.1 0 2-.9 2-2V5c0-1.1-.9-2-2-2zM9 17H7v-7h2v7zm4 0h-2V7h2v10zm4 0h-2v-4h2v4z\"/>\n",
              "    </g>\n",
              "</svg>\n",
              "  </button>\n",
              "\n",
              "<style>\n",
              "  .colab-df-quickchart {\n",
              "      --bg-color: #E8F0FE;\n",
              "      --fill-color: #1967D2;\n",
              "      --hover-bg-color: #E2EBFA;\n",
              "      --hover-fill-color: #174EA6;\n",
              "      --disabled-fill-color: #AAA;\n",
              "      --disabled-bg-color: #DDD;\n",
              "  }\n",
              "\n",
              "  [theme=dark] .colab-df-quickchart {\n",
              "      --bg-color: #3B4455;\n",
              "      --fill-color: #D2E3FC;\n",
              "      --hover-bg-color: #434B5C;\n",
              "      --hover-fill-color: #FFFFFF;\n",
              "      --disabled-bg-color: #3B4455;\n",
              "      --disabled-fill-color: #666;\n",
              "  }\n",
              "\n",
              "  .colab-df-quickchart {\n",
              "    background-color: var(--bg-color);\n",
              "    border: none;\n",
              "    border-radius: 50%;\n",
              "    cursor: pointer;\n",
              "    display: none;\n",
              "    fill: var(--fill-color);\n",
              "    height: 32px;\n",
              "    padding: 0;\n",
              "    width: 32px;\n",
              "  }\n",
              "\n",
              "  .colab-df-quickchart:hover {\n",
              "    background-color: var(--hover-bg-color);\n",
              "    box-shadow: 0 1px 2px rgba(60, 64, 67, 0.3), 0 1px 3px 1px rgba(60, 64, 67, 0.15);\n",
              "    fill: var(--button-hover-fill-color);\n",
              "  }\n",
              "\n",
              "  .colab-df-quickchart-complete:disabled,\n",
              "  .colab-df-quickchart-complete:disabled:hover {\n",
              "    background-color: var(--disabled-bg-color);\n",
              "    fill: var(--disabled-fill-color);\n",
              "    box-shadow: none;\n",
              "  }\n",
              "\n",
              "  .colab-df-spinner {\n",
              "    border: 2px solid var(--fill-color);\n",
              "    border-color: transparent;\n",
              "    border-bottom-color: var(--fill-color);\n",
              "    animation:\n",
              "      spin 1s steps(1) infinite;\n",
              "  }\n",
              "\n",
              "  @keyframes spin {\n",
              "    0% {\n",
              "      border-color: transparent;\n",
              "      border-bottom-color: var(--fill-color);\n",
              "      border-left-color: var(--fill-color);\n",
              "    }\n",
              "    20% {\n",
              "      border-color: transparent;\n",
              "      border-left-color: var(--fill-color);\n",
              "      border-top-color: var(--fill-color);\n",
              "    }\n",
              "    30% {\n",
              "      border-color: transparent;\n",
              "      border-left-color: var(--fill-color);\n",
              "      border-top-color: var(--fill-color);\n",
              "      border-right-color: var(--fill-color);\n",
              "    }\n",
              "    40% {\n",
              "      border-color: transparent;\n",
              "      border-right-color: var(--fill-color);\n",
              "      border-top-color: var(--fill-color);\n",
              "    }\n",
              "    60% {\n",
              "      border-color: transparent;\n",
              "      border-right-color: var(--fill-color);\n",
              "    }\n",
              "    80% {\n",
              "      border-color: transparent;\n",
              "      border-right-color: var(--fill-color);\n",
              "      border-bottom-color: var(--fill-color);\n",
              "    }\n",
              "    90% {\n",
              "      border-color: transparent;\n",
              "      border-bottom-color: var(--fill-color);\n",
              "    }\n",
              "  }\n",
              "</style>\n",
              "\n",
              "  <script>\n",
              "    async function quickchart(key) {\n",
              "      const quickchartButtonEl =\n",
              "        document.querySelector('#' + key + ' button');\n",
              "      quickchartButtonEl.disabled = true;  // To prevent multiple clicks.\n",
              "      quickchartButtonEl.classList.add('colab-df-spinner');\n",
              "      try {\n",
              "        const charts = await google.colab.kernel.invokeFunction(\n",
              "            'suggestCharts', [key], {});\n",
              "      } catch (error) {\n",
              "        console.error('Error during call to suggestCharts:', error);\n",
              "      }\n",
              "      quickchartButtonEl.classList.remove('colab-df-spinner');\n",
              "      quickchartButtonEl.classList.add('colab-df-quickchart-complete');\n",
              "    }\n",
              "    (() => {\n",
              "      let quickchartButtonEl =\n",
              "        document.querySelector('#df-61bdadf2-fcaa-4c4f-a7b6-9e30d3a3350a button');\n",
              "      quickchartButtonEl.style.display =\n",
              "        google.colab.kernel.accessAllowed ? 'block' : 'none';\n",
              "    })();\n",
              "  </script>\n",
              "</div>\n",
              "\n",
              "    </div>\n",
              "  </div>\n"
            ],
            "application/vnd.google.colaboratory.intrinsic+json": {
              "type": "dataframe",
              "variable_name": "tel_df"
            }
          },
          "metadata": {},
          "execution_count": 4
        }
      ],
      "source": [
        "tel_df = pd.read_csv('/content/Cleaned_Telecom_Dataset_New.csv')\n",
        "tel_df = tel_df.drop('Unnamed: 0', axis=1)\n",
        "tel_df.head()"
      ]
    },
    {
      "cell_type": "markdown",
      "id": "c8dc4c3f-37ac-4ea7-8005-3afd35a9c3d5",
      "metadata": {
        "id": "c8dc4c3f-37ac-4ea7-8005-3afd35a9c3d5"
      },
      "source": [
        "## Feature Scaling"
      ]
    },
    {
      "cell_type": "code",
      "execution_count": 5,
      "id": "d53e24f3-8abf-4871-a67a-ae2a3d84bca3",
      "metadata": {
        "id": "d53e24f3-8abf-4871-a67a-ae2a3d84bca3"
      },
      "outputs": [],
      "source": [
        "from sklearn.preprocessing import StandardScaler\n",
        "scaler = StandardScaler()\n",
        "scaler.fit(tel_df.drop(['Churn'], axis=1))\n",
        "scaled_features = scaler.transform(tel_df.drop('Churn', axis=1))\n"
      ]
    },
    {
      "cell_type": "markdown",
      "id": "a69768ef-e5f4-4635-ba8f-0dfa06738531",
      "metadata": {
        "id": "a69768ef-e5f4-4635-ba8f-0dfa06738531"
      },
      "source": [
        "## Feature Selection"
      ]
    },
    {
      "cell_type": "code",
      "execution_count": 6,
      "id": "0bf26ced-8399-49c1-b565-c371df0b9d26",
      "metadata": {
        "id": "0bf26ced-8399-49c1-b565-c371df0b9d26"
      },
      "outputs": [],
      "source": [
        "X = scaled_features\n",
        "y = tel_df['Churn']"
      ]
    },
    {
      "cell_type": "markdown",
      "id": "215d1da0-1ced-4b5d-9bf8-3ad1c7fc118e",
      "metadata": {
        "id": "215d1da0-1ced-4b5d-9bf8-3ad1c7fc118e"
      },
      "source": [
        "## Train Test Split"
      ]
    },
    {
      "cell_type": "code",
      "execution_count": 7,
      "id": "088f748f-8e52-4d1a-b06b-9fe6ac3184a3",
      "metadata": {
        "id": "088f748f-8e52-4d1a-b06b-9fe6ac3184a3"
      },
      "outputs": [],
      "source": [
        "X_train, X_test, y_train, y_test = train_test_split(X, y, test_size=0.3, random_state=42)"
      ]
    },
    {
      "cell_type": "markdown",
      "id": "d706abb2-1d9d-4b94-9462-7de73cccf4de",
      "metadata": {
        "id": "d706abb2-1d9d-4b94-9462-7de73cccf4de"
      },
      "source": [
        "# With Python Package"
      ]
    },
    {
      "cell_type": "code",
      "execution_count": 8,
      "id": "e5d626ba-dc1a-485a-be35-9637dd58c7df",
      "metadata": {
        "id": "e5d626ba-dc1a-485a-be35-9637dd58c7df",
        "outputId": "8d1ba3a7-ef5c-4678-a6d6-ed8c6448fb75",
        "colab": {
          "base_uri": "https://localhost:8080/"
        }
      },
      "outputs": [
        {
          "output_type": "execute_result",
          "data": {
            "text/plain": [
              "array([0, 0, 0, ..., 0, 0, 0])"
            ]
          },
          "metadata": {},
          "execution_count": 8
        }
      ],
      "source": [
        "# Model Training\n",
        "model_rf = RandomForestClassifier(n_estimators=100, random_state=42, max_depth=6, min_samples_leaf=8)\n",
        "model_rf.fit(X_train, y_train)\n",
        "\n",
        "# Predictions\n",
        "y_pred = model_rf.predict(X_test)\n",
        "y_pred"
      ]
    },
    {
      "cell_type": "markdown",
      "id": "40f4c3f4-2959-4d07-a4db-9adf404d61ab",
      "metadata": {
        "id": "40f4c3f4-2959-4d07-a4db-9adf404d61ab"
      },
      "source": [
        "## Mean Squared Error"
      ]
    },
    {
      "cell_type": "code",
      "execution_count": 9,
      "id": "028db568-4b73-442d-be7f-daa30c39ba8e",
      "metadata": {
        "id": "028db568-4b73-442d-be7f-daa30c39ba8e",
        "outputId": "e3343a0a-4649-4ad2-eff2-fec3bc74f400",
        "colab": {
          "base_uri": "https://localhost:8080/"
        }
      },
      "outputs": [
        {
          "output_type": "stream",
          "name": "stdout",
          "text": [
            "Mean Squared Error: 0.2104265402843602\n"
          ]
        }
      ],
      "source": [
        "mse = mean_squared_error(y_test, y_pred)\n",
        "print('Mean Squared Error:', mse)"
      ]
    },
    {
      "cell_type": "markdown",
      "id": "2213abad-0ffd-427a-bb51-fd9a0589dc1a",
      "metadata": {
        "id": "2213abad-0ffd-427a-bb51-fd9a0589dc1a"
      },
      "source": [
        "## Accuracy & Other Metrics"
      ]
    },
    {
      "cell_type": "code",
      "execution_count": 10,
      "id": "5b45a327-d5fb-4b3a-b464-839628db1586",
      "metadata": {
        "id": "5b45a327-d5fb-4b3a-b464-839628db1586",
        "outputId": "5cb866cf-9aef-4007-aaa3-b1aec0e51193",
        "colab": {
          "base_uri": "https://localhost:8080/"
        }
      },
      "outputs": [
        {
          "output_type": "stream",
          "name": "stdout",
          "text": [
            "Accuracy: 0.7895734597156399\n",
            "              precision    recall  f1-score   support\n",
            "\n",
            "           0       0.82      0.91      0.86      1549\n",
            "           1       0.65      0.44      0.53       561\n",
            "\n",
            "    accuracy                           0.79      2110\n",
            "   macro avg       0.74      0.68      0.70      2110\n",
            "weighted avg       0.78      0.79      0.78      2110\n",
            "\n"
          ]
        }
      ],
      "source": [
        "print('Accuracy:', accuracy_score(y_test, y_pred))\n",
        "print(classification_report(y_test, y_pred, labels=[0, 1]))"
      ]
    },
    {
      "cell_type": "markdown",
      "id": "6524dd11-d66c-42f6-9a95-752f07673abd",
      "metadata": {
        "id": "6524dd11-d66c-42f6-9a95-752f07673abd"
      },
      "source": [
        "## Confusion Matrix"
      ]
    },
    {
      "cell_type": "code",
      "execution_count": 11,
      "id": "a2311745-bbcc-47e4-8edf-aa5e621bd550",
      "metadata": {
        "id": "a2311745-bbcc-47e4-8edf-aa5e621bd550",
        "outputId": "9ee1e7f8-4032-46f5-93b4-b37ff485cff0",
        "colab": {
          "base_uri": "https://localhost:8080/",
          "height": 564
        }
      },
      "outputs": [
        {
          "output_type": "display_data",
          "data": {
            "text/plain": [
              "<Figure size 800x600 with 2 Axes>"
            ],
            "image/png": "[encoded data removed]"
          },
          "metadata": {}
        }
      ],
      "source": [
        "confusion_matrix_rf = confusion_matrix(y_test, y_pred)\n",
        "plt.figure(figsize=(8, 6))\n",
        "sns.heatmap(confusion_matrix_rf, annot=True, cmap='BuPu', fmt='g')\n",
        "plt.title('Confusion Matrix')\n",
        "plt.xlabel('Predicted Values')\n",
        "plt.ylabel('Actual Values')\n",
        "plt.xticks([0.5, 1.5], ['Not Churned', 'Churned'])\n",
        "plt.yticks([0.5, 1.5], ['Not Churned', 'Churned'])\n",
        "plt.show()\n"
      ]
    },
    {
      "cell_type": "markdown",
      "id": "c4957b47-38ed-469b-8040-b74ef57f8e5a",
      "metadata": {
        "id": "c4957b47-38ed-469b-8040-b74ef57f8e5a"
      },
      "source": [
        "we should focus on recall, precision, and the F1 score for the minority class. It's clear that the precision, recall, and F1 score for Class 1 (churned customers) are very low.\n",
        "\n",
        "Therefore, we will use SMOTEENN (Over Sampling + ENN) to address this issue."
      ]
    },
    {
      "cell_type": "markdown",
      "id": "d6a956fd-184d-46fe-848f-7c2cda837135",
      "metadata": {
        "id": "d6a956fd-184d-46fe-848f-7c2cda837135"
      },
      "source": [
        "## SMOTEENN"
      ]
    },
    {
      "cell_type": "code",
      "execution_count": 12,
      "id": "959dc10c-db95-4fcf-b963-524682cf45e4",
      "metadata": {
        "id": "959dc10c-db95-4fcf-b963-524682cf45e4"
      },
      "outputs": [],
      "source": [
        "sm = SMOTE(random_state=42)\n",
        "sm = SMOTEENN(smote=sm)\n",
        "X_resampled, y_resampled = sm.fit_resample(X, y)"
      ]
    },
    {
      "cell_type": "markdown",
      "id": "a65b9386-402f-4268-826d-2556f213ebf0",
      "metadata": {
        "id": "a65b9386-402f-4268-826d-2556f213ebf0"
      },
      "source": [
        "## Train Test Split"
      ]
    },
    {
      "cell_type": "code",
      "execution_count": 13,
      "id": "4cc0bfbe-647a-4041-81c1-ff4a0937ff95",
      "metadata": {
        "id": "4cc0bfbe-647a-4041-81c1-ff4a0937ff95"
      },
      "outputs": [],
      "source": [
        "Xr_train, Xr_test, yr_train, yr_test = train_test_split(X_resampled, y_resampled, test_size=0.3, random_state=42)"
      ]
    },
    {
      "cell_type": "markdown",
      "id": "66faf13d-eca0-47af-804f-c430d0f9436b",
      "metadata": {
        "id": "66faf13d-eca0-47af-804f-c430d0f9436b"
      },
      "source": [
        "## Model Training with Resampled Data"
      ]
    },
    {
      "cell_type": "code",
      "execution_count": 14,
      "id": "eb245369-e4a8-4248-b8bc-70def2befc92",
      "metadata": {
        "id": "eb245369-e4a8-4248-b8bc-70def2befc92",
        "outputId": "67067c50-3faf-43ae-86ec-f59dc388a713",
        "colab": {
          "base_uri": "https://localhost:8080/",
          "height": 75
        }
      },
      "outputs": [
        {
          "output_type": "execute_result",
          "data": {
            "text/plain": [
              "RandomForestClassifier(max_depth=6, min_samples_leaf=8, random_state=42)"
            ],
            "text/html": [
              "<style>#sk-container-id-1 {color: black;background-color: white;}#sk-container-id-1 pre{padding: 0;}#sk-container-id-1 div.sk-toggleable {background-color: white;}#sk-container-id-1 label.sk-toggleable__label {cursor: pointer;display: block;width: 100%;margin-bottom: 0;padding: 0.3em;box-sizing: border-box;text-align: center;}#sk-container-id-1 label.sk-toggleable__label-arrow:before {content: \"▸\";float: left;margin-right: 0.25em;color: #696969;}#sk-container-id-1 label.sk-toggleable__label-arrow:hover:before {color: black;}#sk-container-id-1 div.sk-estimator:hover label.sk-toggleable__label-arrow:before {color: black;}#sk-container-id-1 div.sk-toggleable__content {max-height: 0;max-width: 0;overflow: hidden;text-align: left;background-color: #f0f8ff;}#sk-container-id-1 div.sk-toggleable__content pre {margin: 0.2em;color: black;border-radius: 0.25em;background-color: #f0f8ff;}#sk-container-id-1 input.sk-toggleable__control:checked~div.sk-toggleable__content {max-height: 200px;max-width: 100%;overflow: auto;}#sk-container-id-1 input.sk-toggleable__control:checked~label.sk-toggleable__label-arrow:before {content: \"▾\";}#sk-container-id-1 div.sk-estimator input.sk-toggleable__control:checked~label.sk-toggleable__label {background-color: #d4ebff;}#sk-container-id-1 div.sk-label input.sk-toggleable__control:checked~label.sk-toggleable__label {background-color: #d4ebff;}#sk-container-id-1 input.sk-hidden--visually {border: 0;clip: rect(1px 1px 1px 1px);clip: rect(1px, 1px, 1px, 1px);height: 1px;margin: -1px;overflow: hidden;padding: 0;position: absolute;width: 1px;}#sk-container-id-1 div.sk-estimator {font-family: monospace;background-color: #f0f8ff;border: 1px dotted black;border-radius: 0.25em;box-sizing: border-box;margin-bottom: 0.5em;}#sk-container-id-1 div.sk-estimator:hover {background-color: #d4ebff;}#sk-container-id-1 div.sk-parallel-item::after {content: \"\";width: 100%;border-bottom: 1px solid gray;flex-grow: 1;}#sk-container-id-1 div.sk-label:hover label.sk-toggleable__label {background-color: #d4ebff;}#sk-container-id-1 div.sk-serial::before {content: \"\";position: absolute;border-left: 1px solid gray;box-sizing: border-box;top: 0;bottom: 0;left: 50%;z-index: 0;}#sk-container-id-1 div.sk-serial {display: flex;flex-direction: column;align-items: center;background-color: white;padding-right: 0.2em;padding-left: 0.2em;position: relative;}#sk-container-id-1 div.sk-item {position: relative;z-index: 1;}#sk-container-id-1 div.sk-parallel {display: flex;align-items: stretch;justify-content: center;background-color: white;position: relative;}#sk-container-id-1 div.sk-item::before, #sk-container-id-1 div.sk-parallel-item::before {content: \"\";position: absolute;border-left: 1px solid gray;box-sizing: border-box;top: 0;bottom: 0;left: 50%;z-index: -1;}#sk-container-id-1 div.sk-parallel-item {display: flex;flex-direction: column;z-index: 1;position: relative;background-color: white;}#sk-container-id-1 div.sk-parallel-item:first-child::after {align-self: flex-end;width: 50%;}#sk-container-id-1 div.sk-parallel-item:last-child::after {align-self: flex-start;width: 50%;}#sk-container-id-1 div.sk-parallel-item:only-child::after {width: 0;}#sk-container-id-1 div.sk-dashed-wrapped {border: 1px dashed gray;margin: 0 0.4em 0.5em 0.4em;box-sizing: border-box;padding-bottom: 0.4em;background-color: white;}#sk-container-id-1 div.sk-label label {font-family: monospace;font-weight: bold;display: inline-block;line-height: 1.2em;}#sk-container-id-1 div.sk-label-container {text-align: center;}#sk-container-id-1 div.sk-container {/* jupyter's `normalize.less` sets `[hidden] { display: none; }` but bootstrap.min.css set `[hidden] { display: none !important; }` so we also need the `!important` here to be able to override the default hidden behavior on the sphinx rendered scikit-learn.org. See: https://github.com/scikit-learn/scikit-learn/issues/21755 */display: inline-block !important;position: relative;}#sk-container-id-1 div.sk-text-repr-fallback {display: none;}</style><div id=\"sk-container-id-1\" class=\"sk-top-container\"><div class=\"sk-text-repr-fallback\"><pre>RandomForestClassifier(max_depth=6, min_samples_leaf=8, random_state=42)</pre><b>In a Jupyter environment, please rerun this cell to show the HTML representation or trust the notebook. <br />On GitHub, the HTML representation is unable to render, please try loading this page with nbviewer.org.</b></div><div class=\"sk-container\" hidden><div class=\"sk-item\"><div class=\"sk-estimator sk-toggleable\"><input class=\"sk-toggleable__control sk-hidden--visually\" id=\"sk-estimator-id-1\" type=\"checkbox\" checked><label for=\"sk-estimator-id-1\" class=\"sk-toggleable__label sk-toggleable__label-arrow\">RandomForestClassifier</label><div class=\"sk-toggleable__content\"><pre>RandomForestClassifier(max_depth=6, min_samples_leaf=8, random_state=42)</pre></div></div></div></div></div>"
            ]
          },
          "metadata": {},
          "execution_count": 14
        }
      ],
      "source": [
        "model_rf_smote = RandomForestClassifier(n_estimators=100, random_state=42, max_depth=6, min_samples_leaf=8)\n",
        "model_rf_smote.fit(Xr_train, yr_train)"
      ]
    },
    {
      "cell_type": "code",
      "execution_count": 15,
      "id": "a7c4b7ef-90d2-431d-bb2c-d7dbd327c82f",
      "metadata": {
        "id": "a7c4b7ef-90d2-431d-bb2c-d7dbd327c82f"
      },
      "outputs": [],
      "source": [
        "# Predictions with Resampled Data\n",
        "yr_pred = model_rf_smote.predict(Xr_test)"
      ]
    },
    {
      "cell_type": "markdown",
      "id": "10f2d644-0866-48bc-b5e9-4231591e7149",
      "metadata": {
        "id": "10f2d644-0866-48bc-b5e9-4231591e7149"
      },
      "source": [
        "## Mean Squared Error"
      ]
    },
    {
      "cell_type": "code",
      "execution_count": 16,
      "id": "bf5147bf-2dbc-4640-a26c-fc704a77059c",
      "metadata": {
        "id": "bf5147bf-2dbc-4640-a26c-fc704a77059c",
        "outputId": "a9609b01-23a0-4bf6-9849-115c06820d3a",
        "colab": {
          "base_uri": "https://localhost:8080/"
        }
      },
      "outputs": [
        {
          "output_type": "stream",
          "name": "stdout",
          "text": [
            "Mean Squared Error with SMOTEENN: 0.0767236910316226\n"
          ]
        }
      ],
      "source": [
        "mse_smote = mean_squared_error(yr_test, yr_pred)\n",
        "print('Mean Squared Error with SMOTEENN:', mse_smote)"
      ]
    },
    {
      "cell_type": "markdown",
      "id": "26965e96-4284-4205-af4c-9d895ebe1c86",
      "metadata": {
        "id": "26965e96-4284-4205-af4c-9d895ebe1c86"
      },
      "source": [
        "## Accuracy and other metrics"
      ]
    },
    {
      "cell_type": "code",
      "execution_count": 17,
      "id": "91349d02-ba97-46f0-831d-6422650cb7df",
      "metadata": {
        "id": "91349d02-ba97-46f0-831d-6422650cb7df",
        "outputId": "b97d1001-c664-4faf-9b7b-94adfe89607f",
        "colab": {
          "base_uri": "https://localhost:8080/"
        }
      },
      "outputs": [
        {
          "output_type": "stream",
          "name": "stdout",
          "text": [
            "Accuracy with SMOTEENN: 0.9232763089683774\n",
            "              precision    recall  f1-score   support\n",
            "\n",
            "           0       0.94      0.89      0.91       881\n",
            "           1       0.91      0.95      0.93      1048\n",
            "\n",
            "    accuracy                           0.92      1929\n",
            "   macro avg       0.92      0.92      0.92      1929\n",
            "weighted avg       0.92      0.92      0.92      1929\n",
            "\n"
          ]
        }
      ],
      "source": [
        "print('Accuracy with SMOTEENN:', accuracy_score(yr_test, yr_pred))\n",
        "print(classification_report(yr_test, yr_pred))"
      ]
    },
    {
      "cell_type": "markdown",
      "id": "dfb9eaf6-628e-489a-a7d4-91ddc7cee093",
      "metadata": {
        "id": "dfb9eaf6-628e-489a-a7d4-91ddc7cee093"
      },
      "source": [
        "# Confusion Matrix with Resampled Data"
      ]
    },
    {
      "cell_type": "code",
      "execution_count": 18,
      "id": "c082e3ef-27c6-4f1f-9bf6-c090f277c63c",
      "metadata": {
        "id": "c082e3ef-27c6-4f1f-9bf6-c090f277c63c",
        "outputId": "e9725ee6-5b02-4b64-9c9e-f3849e814aac",
        "colab": {
          "base_uri": "https://localhost:8080/",
          "height": 564
        }
      },
      "outputs": [
        {
          "output_type": "display_data",
          "data": {
            "text/plain": [
              "<Figure size 800x600 with 2 Axes>"
            ],
            "image/png": "[encoded data removed]"
          },
          "metadata": {}
        }
      ],
      "source": [
        "confusion_matrix_rf_smote = confusion_matrix(yr_test, yr_pred)\n",
        "plt.figure(figsize=(8, 6))\n",
        "sns.heatmap(confusion_matrix_rf_smote, annot=True, cmap='BuPu', fmt='g')\n",
        "plt.title('Confusion Matrix with SMOTEENN')\n",
        "plt.xlabel('Predicted Values')\n",
        "plt.ylabel('Actual Values')\n",
        "plt.xticks([0.5, 1.5], ['Not Churned', 'Churned'])\n",
        "plt.yticks([0.5, 1.5], ['Not Churned', 'Churned'])\n",
        "plt.show()\n"
      ]
    },
    {
      "cell_type": "markdown",
      "id": "399a60ca-b596-4fd2-93c8-e7435fb08dbf",
      "metadata": {
        "id": "399a60ca-b596-4fd2-93c8-e7435fb08dbf"
      },
      "source": [
        "Now we can see quite better results, i.e. Accuracy: 93% approximately."
      ]
    },
    {
      "cell_type": "markdown",
      "id": "d310aa13-6731-48f4-872c-6b07a1786f57",
      "metadata": {
        "id": "d310aa13-6731-48f4-872c-6b07a1786f57"
      },
      "source": [
        "# WITHOUT PYTHON PACKAGE"
      ]
    },
    {
      "cell_type": "code",
      "execution_count": 19,
      "id": "9e498d7b-f548-467f-bbee-93e013e574c2",
      "metadata": {
        "id": "9e498d7b-f548-467f-bbee-93e013e574c2"
      },
      "outputs": [],
      "source": [
        "class CustomDecisionTreeClassifier:\n",
        "    def __init__(self, max_depth=None):\n",
        "        self.max_depth = max_depth\n",
        "        self.tree = None\n",
        "\n",
        "    def fit(self, X, y):\n",
        "        self.tree = self._grow_tree(X, y)\n",
        "\n",
        "    def _grow_tree(self, X, y, depth=0):\n",
        "        num_samples, num_features = X.shape\n",
        "        num_classes = len(np.unique(y))\n",
        "\n",
        "        # Stopping criteria\n",
        "        if (self.max_depth is not None and depth >= self.max_depth) or num_classes == 1:\n",
        "            return {'leaf': True, 'class': np.argmax(np.bincount(y))}\n",
        "\n",
        "        best_split = None\n",
        "        best_gain = 0.0\n",
        "\n",
        "        # Calculating the entropy of the current node (whole dataset)\n",
        "        current_entropy = self._entropy(y)\n",
        "\n",
        "        # Iterating over each feature to find the best split\n",
        "        for feature_idx in range(num_features):\n",
        "            feature_values = np.unique(X[:, feature_idx])\n",
        "\n",
        "            if len(feature_values) > 10:  # Assuming a feature is continuous if it has more than 10 unique values\n",
        "                # Continuous feature (Reduction of Variance for Splitting point)\n",
        "                sorted_idx = np.argsort(X[:, feature_idx])\n",
        "                for i in range(1, len(sorted_idx)):\n",
        "                    if X[sorted_idx[i], feature_idx] != X[sorted_idx[i - 1], feature_idx]:\n",
        "                        split_value = (X[sorted_idx[i], feature_idx] + X[sorted_idx[i - 1], feature_idx]) / 2.0\n",
        "                        X_left, y_left, X_right, y_right = self._split_continuous(X, y, feature_idx, split_value)\n",
        "                        gain = self._variance_reduction(y, y_left, y_right)\n",
        "                        if gain > best_gain:\n",
        "                            best_gain = gain\n",
        "                            best_split = {'feature_idx': feature_idx, 'split_value': split_value,\n",
        "                                          'X_left': X_left, 'y_left': y_left,\n",
        "                                          'X_right': X_right, 'y_right': y_right}\n",
        "            else:\n",
        "                # Categorical feature\n",
        "                for value in feature_values:\n",
        "                    X_subset, y_subset = self._split_categorical(X, y, feature_idx, value)\n",
        "                    # here current_entropy represents total info gain of particular dataset, y_subset is splited labels, y[~(X[:, feature_idx] == value)] = y - y_subset\n",
        "                    gain = self._information_gain(current_entropy, [y_subset, y[~(X[:, feature_idx] == value)]])\n",
        "                    if gain > best_gain:\n",
        "                        best_gain = gain\n",
        "                        best_split = {'feature_idx': feature_idx, 'value': value,\n",
        "                                      'X_subset': X_subset, 'y_subset': y_subset}\n",
        "\n",
        "        if best_split is None:\n",
        "            return {'leaf': True, 'class': np.argmax(np.bincount(y))}\n",
        "\n",
        "        if 'split_value' in best_split:\n",
        "            # Continuous split\n",
        "            left_subtree = self._grow_tree(best_split['X_left'], best_split['y_left'], depth + 1)\n",
        "            right_subtree = self._grow_tree(best_split['X_right'], best_split['y_right'], depth + 1)\n",
        "            return {'leaf': False, 'feature_idx': best_split['feature_idx'],\n",
        "                    'split_value': best_split['split_value'],\n",
        "                    'left': left_subtree, 'right': right_subtree}\n",
        "        else:\n",
        "            # Categorical split\n",
        "            remaining_X = X[~(X[:, best_split['feature_idx']] == best_split['value'])]\n",
        "            remaining_y = y[~(X[:, best_split['feature_idx']] == best_split['value'])]\n",
        "            subset_tree = self._grow_tree(best_split['X_subset'], best_split['y_subset'], depth + 1)\n",
        "            remaining_tree = self._grow_tree(remaining_X, remaining_y, depth + 1)\n",
        "            return {'leaf': False, 'feature_idx': best_split['feature_idx'], 'value': best_split['value'],\n",
        "                    'subset': subset_tree, 'remaining': remaining_tree}\n",
        "\n",
        "    def _entropy(self, y):\n",
        "        x, counts = np.unique(y, return_counts=True)\n",
        "        probabilities = counts / len(y)\n",
        "        return -np.sum(probabilities * np.log2(probabilities + 1e-10))\n",
        "\n",
        "    def _information_gain(self, parent_entropy, subsets):\n",
        "        total = sum(len(subset) for subset in subsets)\n",
        "        gain = parent_entropy - sum((len(subset) / total) * self._entropy(subset) for subset in subsets)\n",
        "        return gain\n",
        "\n",
        "    def _split_categorical(self, X, y, feature_idx, value):\n",
        "        mask = X[:, feature_idx] == value\n",
        "        return X[mask], y[mask]\n",
        "\n",
        "    def _variance_reduction(self, parent, left, right):\n",
        "        total_var = np.var(parent)\n",
        "        left_var = np.var(left) if len(left) > 0 else 0\n",
        "        right_var = np.var(right) if len(right) > 0 else 0\n",
        "        total_size = len(left) + len(right)\n",
        "        reduction = total_var - ((len(left) / total_size) * left_var + (len(right) / total_size) * right_var)\n",
        "        return reduction\n",
        "\n",
        "    def _split_continuous(self, X, y, feature_idx, split_value):\n",
        "        mask_left = X[:, feature_idx] <= split_value\n",
        "        mask_right = X[:, feature_idx] > split_value\n",
        "        return X[mask_left], y[mask_left], X[mask_right], y[mask_right]\n",
        "\n",
        "    def predict(self, X):\n",
        "        return np.array([self._predict_tree(x, self.tree) for x in X])\n",
        "\n",
        "    def _predict_tree(self, x, node):\n",
        "        if node['leaf']:\n",
        "            return node['class']\n",
        "        else:\n",
        "            if 'split_value' in node:\n",
        "                # Continuous split\n",
        "                if x[node['feature_idx']] <= node['split_value']:\n",
        "                    return self._predict_tree(x, node['left'])\n",
        "                else:\n",
        "                    return self._predict_tree(x, node['right'])\n",
        "            else:\n",
        "                # Categorical split\n",
        "                if x[node['feature_idx']] == node['value']:\n",
        "                    return self._predict_tree(x, node['subset'])\n",
        "                else:\n",
        "                    return self._predict_tree(x, node['remaining'])"
      ]
    },
    {
      "cell_type": "markdown",
      "id": "30872283-3183-4cd3-a96f-02256e6fc7f9",
      "metadata": {
        "id": "30872283-3183-4cd3-a96f-02256e6fc7f9"
      },
      "source": [
        "## Model Training"
      ]
    },
    {
      "cell_type": "code",
      "execution_count": 20,
      "id": "7f2bcab4-609f-4506-959f-57ec82449116",
      "metadata": {
        "id": "7f2bcab4-609f-4506-959f-57ec82449116",
        "outputId": "eaebc1fc-4368-44b0-8716-539dd7282c26",
        "colab": {
          "base_uri": "https://localhost:8080/"
        }
      },
      "outputs": [
        {
          "output_type": "execute_result",
          "data": {
            "text/plain": [
              "array([0, 0, 0, ..., 0, 0, 0])"
            ]
          },
          "metadata": {},
          "execution_count": 20
        }
      ],
      "source": [
        "X_train, X_test, y_train, y_test = train_test_split(X, y, test_size=0.3, random_state = 42)\n",
        "\n",
        "X_train = np.array(X_train)\n",
        "y_train = np.array(y_train)\n",
        "X_test = np.array(X_test)\n",
        "y_test = np.array(y_test)\n",
        "\n",
        "clf = CustomDecisionTreeClassifier(max_depth=6)\n",
        "clf.fit(X_train, y_train)\n",
        "\n",
        "y_pred = clf.predict(X_test)\n",
        "y_pred"
      ]
    },
    {
      "cell_type": "code",
      "execution_count": 21,
      "id": "92e12619-0750-4439-b246-3c96bcb689d9",
      "metadata": {
        "id": "92e12619-0750-4439-b246-3c96bcb689d9",
        "outputId": "da33b162-eb4b-4ce9-ede6-efb4e8bf6a5a",
        "colab": {
          "base_uri": "https://localhost:8080/"
        }
      },
      "outputs": [
        {
          "output_type": "stream",
          "name": "stdout",
          "text": [
            "Accuracy: 0.9232763089683774\n",
            "Precision for class 0: 0.9357907253269917\n",
            "Recall for class 0: 0.8933030646992054\n",
            "F1 Score for class 0: 0.9140534262485481\n",
            "Precision for class 1: 0.9136029411764706\n",
            "Recall for class 1: 0.9484732824427481\n",
            "F1 Score for class 1: 0.9307116104868913\n"
          ]
        }
      ],
      "source": [
        "yr_test_report = np.array(yr_test)\n",
        "pred_report = np.array(yr_pred)\n",
        "\n",
        "counts = {\n",
        "    'TP': {0: 0, 1: 0},\n",
        "    'FP': {0: 0, 1: 0},\n",
        "    'TN': {0: 0, 1: 0},\n",
        "    'FN': {0: 0, 1: 0}\n",
        "}\n",
        "\n",
        "for yt, yp in zip(yr_test_report, pred_report):\n",
        "    if yt == yp:\n",
        "        counts['TP'][yt] += 1\n",
        "        counts['TN'][1 - yt] += 1\n",
        "    else:\n",
        "        counts['FP'][yp] += 1\n",
        "        counts['FN'][yt] += 1\n",
        "\n",
        "# Initialize metrics\n",
        "metrics = {\n",
        "    'precision': {0: 0, 1: 0},\n",
        "    'recall': {0: 0, 1: 0},\n",
        "    'f1_score': {0: 0, 1: 0},\n",
        "    'accuracy': 0\n",
        "}\n",
        "\n",
        "# Calculate Precision, Recall, and F1 Score for both classes\n",
        "for cls in [0, 1]:\n",
        "    TP = counts['TP'][cls]\n",
        "    FP = counts['FP'][cls]\n",
        "    FN = counts['FN'][cls]\n",
        "    TN = counts['TN'][cls]\n",
        "\n",
        "    precision = TP / (TP + FP) if (TP + FP) > 0 else 0\n",
        "    recall = TP / (TP + FN) if (TP + FN) > 0 else 0\n",
        "    f1_score = 2 * (precision * recall) / (precision + recall) if (precision + recall) > 0 else 0\n",
        "\n",
        "    metrics['precision'][cls] = precision\n",
        "    metrics['recall'][cls] = recall\n",
        "    metrics['f1_score'][cls] = f1_score\n",
        "\n",
        "# Calculate overall accuracy correctly\n",
        "total_correct = sum(counts['TP'].values())  # Only sum true positives for both classes\n",
        "total_predictions = len(yr_test)  # Total predictions (both classes)\n",
        "metrics['accuracy'] = total_correct / total_predictions\n",
        "\n",
        "print(f\"Accuracy: {metrics['accuracy']}\")\n",
        "print(f\"Precision for class 0: {metrics['precision'][0]}\")\n",
        "print(f\"Recall for class 0: {metrics['recall'][0]}\")\n",
        "print(f\"F1 Score for class 0: {metrics['f1_score'][0]}\")\n",
        "print(f\"Precision for class 1: {metrics['precision'][1]}\")\n",
        "print(f\"Recall for class 1: {metrics['recall'][1]}\")\n",
        "print(f\"F1 Score for class 1: {metrics['f1_score'][1]}\")"
      ]
    },
    {
      "cell_type": "code",
      "execution_count": 22,
      "id": "a80534de-b6de-44cd-8a1c-841bf480fa59",
      "metadata": {
        "id": "a80534de-b6de-44cd-8a1c-841bf480fa59",
        "outputId": "1c837984-3e3d-40b1-ca8c-a51df82c1111",
        "colab": {
          "base_uri": "https://localhost:8080/"
        }
      },
      "outputs": [
        {
          "output_type": "stream",
          "name": "stdout",
          "text": [
            "Before SMOTEENN\n",
            "Accuracy: 0.7786729857819905\n",
            "              precision    recall  f1-score   support\n",
            "\n",
            "           0       0.78      0.98      0.87      1549\n",
            "           1       0.79      0.23      0.36       561\n",
            "\n",
            "    accuracy                           0.78      2110\n",
            "   macro avg       0.78      0.60      0.61      2110\n",
            "weighted avg       0.78      0.78      0.73      2110\n",
            "\n",
            "\n",
            "After SMOTEENN\n",
            "Accuracy: 0.8854328667703474\n",
            "              precision    recall  f1-score   support\n",
            "\n",
            "           0       0.81      0.99      0.89       881\n",
            "           1       0.98      0.80      0.88      1048\n",
            "\n",
            "    accuracy                           0.89      1929\n",
            "   macro avg       0.90      0.89      0.89      1929\n",
            "weighted avg       0.90      0.89      0.89      1929\n",
            "\n"
          ]
        }
      ],
      "source": [
        "import numpy as np\n",
        "from sklearn.base import BaseEstimator, ClassifierMixin\n",
        "from sklearn.utils import check_array, check_X_y\n",
        "\n",
        "class RandomForestClassifier(BaseEstimator, ClassifierMixin):\n",
        "    def __init__(self, n_estimators=100, max_depth=None, min_samples_split=2,\n",
        "                 max_features='sqrt', bootstrap=True, random_state=None):\n",
        "        self.n_estimators = n_estimators\n",
        "        self.max_depth = max_depth\n",
        "        self.min_samples_split = min_samples_split\n",
        "        self.max_features = max_features\n",
        "        self.bootstrap = bootstrap\n",
        "        self.random_state = random_state\n",
        "        self.trees = []\n",
        "\n",
        "    def fit(self, X, y):\n",
        "        X, y = check_X_y(X, y)\n",
        "        self.n_features_ = X.shape[1]\n",
        "\n",
        "        if isinstance(self.max_features, str):\n",
        "            if self.max_features == 'sqrt':\n",
        "                self.max_features_ = int(np.sqrt(self.n_features_))\n",
        "            elif self.max_features == 'log2':\n",
        "                self.max_features_ = int(np.log2(self.n_features_))\n",
        "            else:\n",
        "                raise ValueError(\"Unsupported max_features string\")\n",
        "        elif isinstance(self.max_features, float):\n",
        "            self.max_features_ = int(self.max_features * self.n_features_)\n",
        "        else:\n",
        "            self.max_features_ = self.max_features\n",
        "\n",
        "        for _ in range(self.n_estimators):\n",
        "            tree = CustomDecisionTreeClassifier(max_depth=self.max_depth)\n",
        "            if self.bootstrap:\n",
        "                n_samples = X.shape[0]\n",
        "                indices = np.random.choice(n_samples, n_samples, replace=True)\n",
        "                sample_X = X[indices]\n",
        "                sample_y = y[indices]\n",
        "            else:\n",
        "                sample_X, sample_y = X, y\n",
        "\n",
        "            feature_indices = np.random.choice(self.n_features_, self.max_features_, replace=False)\n",
        "            tree.fit(sample_X[:, feature_indices], sample_y)\n",
        "            self.trees.append((tree, feature_indices))\n",
        "\n",
        "        return self\n",
        "\n",
        "    def predict(self, X):\n",
        "        check_array(X)\n",
        "        predictions = np.array([tree.predict(X[:, indices]) for tree, indices in self.trees])\n",
        "        return np.apply_along_axis(lambda x: np.argmax(np.bincount(x)), axis=0, arr=predictions)\n",
        "\n",
        "\n",
        "rf_clf = RandomForestClassifier(n_estimators=100, max_depth=6, random_state=42)\n",
        "\n",
        "# Before SMOTEENN\n",
        "X_train, X_test, y_train, y_test = train_test_split(X, y, test_size=0.3, random_state=42)\n",
        "rf_clf.fit(X_train, y_train)\n",
        "y_pred = rf_clf.predict(X_test)\n",
        "\n",
        "# Compute metrics\n",
        "print(\"Before SMOTEENN\")\n",
        "print(f\"Accuracy: {accuracy_score(y_test, y_pred)}\")\n",
        "print(classification_report(y_test, y_pred))\n",
        "\n",
        "# After SMOTEENN\n",
        "Xr_train, Xr_test, yr_train, yr_test = train_test_split(X_resampled, y_resampled, test_size=0.3, random_state=42)\n",
        "rf_clf.fit(Xr_train, yr_train)\n",
        "yr_pred = rf_clf.predict(Xr_test)\n",
        "\n",
        "# Compute metrics\n",
        "print(\"\\nAfter SMOTEENN\")\n",
        "print(f\"Accuracy: {accuracy_score(yr_test, yr_pred)}\")\n",
        "print(classification_report(yr_test, yr_pred))"
      ]
    }
  ],
  "metadata": {
    "colab": {
      "provenance": [],
      "include_colab_link": true
    },
    "kernelspec": {
      "display_name": "Python 3 (ipykernel)",
      "language": "python",
      "name": "python3"
    },
    "language_info": {
      "codemirror_mode": {
        "name": "ipython",
        "version": 3
      },
      "file_extension": ".py",
      "mimetype": "text/x-python",
      "name": "python",
      "nbconvert_exporter": "python",
      "pygments_lexer": "ipython3",
      "version": "3.12.4"
    }
  },
  "nbformat": 4,
  "nbformat_minor": 5
}