{
  "cells": [
    {
      "cell_type": "markdown",
      "metadata": {
        "colab_type": "text",
        "id": "view-in-github"
      },
      "source": [
        "<a href=\"https://colab.research.google.com/github/hariskhan-hk/Churn_pred/blob/main/RandomForestClassifier.ipynb\" target=\"_parent\"><img src=\"https://colab.research.google.com/assets/colab-badge.svg\" alt=\"Open In Colab\"/></a>"
      ]
    },
    {
      "cell_type": "markdown",
      "id": "5bb63905-d7a6-4b7f-8b73-bd404f22252e",
      "metadata": {
        "id": "5bb63905-d7a6-4b7f-8b73-bd404f22252e"
      },
      "source": [
        "## Importing Libraries"
      ]
    },
    {
      "cell_type": "code",
      "execution_count": 114,
      "id": "e0bc76d9-2b72-4576-958b-ac3170bf378b",
      "metadata": {
        "id": "e0bc76d9-2b72-4576-958b-ac3170bf378b"
      },
      "outputs": [],
      "source": [
        "import pandas as pd\n",
        "from sklearn import metrics\n",
        "from sklearn.metrics import mean_squared_error, recall_score, classification_report, accuracy_score, confusion_matrix\n",
        "from sklearn.ensemble import RandomForestClassifier\n",
        "from sklearn.model_selection import train_test_split\n",
        "from imblearn.combine import SMOTEENN\n",
        "from imblearn.over_sampling import SMOTE\n",
        "import numpy as np\n",
        "import matplotlib.pyplot as plt\n",
        "import seaborn as sns"
      ]
    },
    {
      "cell_type": "markdown",
      "id": "987fcfaf-0dec-4c06-91da-392c9aa013e6",
      "metadata": {
        "id": "987fcfaf-0dec-4c06-91da-392c9aa013e6"
      },
      "source": [
        "## Load Dataset"
      ]
    },
    {
      "cell_type": "code",
      "execution_count": 115,
      "id": "aeca33ca-8e0e-481e-814e-b2a4fabf43ab",
      "metadata": {
        "id": "aeca33ca-8e0e-481e-814e-b2a4fabf43ab",
        "outputId": "9a37b3b3-d528-46a9-f0d5-ac2c9e746df1"
      },
      "outputs": [
        {
          "data": {
            "text/html": [
              "<div>\n",
              "<style scoped>\n",
              "    .dataframe tbody tr th:only-of-type {\n",
              "        vertical-align: middle;\n",
              "    }\n",
              "\n",
              "    .dataframe tbody tr th {\n",
              "        vertical-align: top;\n",
              "    }\n",
              "\n",
              "    .dataframe thead th {\n",
              "        text-align: right;\n",
              "    }\n",
              "</style>\n",
              "<table border=\"1\" class=\"dataframe\">\n",
              "  <thead>\n",
              "    <tr style=\"text-align: right;\">\n",
              "      <th></th>\n",
              "      <th>SeniorCitizen</th>\n",
              "      <th>MonthlyCharges</th>\n",
              "      <th>TotalCharges</th>\n",
              "      <th>Churn</th>\n",
              "      <th>gender_Male</th>\n",
              "      <th>Partner_No</th>\n",
              "      <th>Partner_Yes</th>\n",
              "      <th>Dependents_Yes</th>\n",
              "      <th>PhoneService_Yes</th>\n",
              "      <th>MultipleLines_No phone service</th>\n",
              "      <th>...</th>\n",
              "      <th>PaperlessBilling_No</th>\n",
              "      <th>PaymentMethod_Bank transfer (automatic)</th>\n",
              "      <th>PaymentMethod_Credit card (automatic)</th>\n",
              "      <th>PaymentMethod_Electronic check</th>\n",
              "      <th>tenure_group_1 - 12</th>\n",
              "      <th>tenure_group_13 - 24</th>\n",
              "      <th>tenure_group_25 - 36</th>\n",
              "      <th>tenure_group_37 - 48</th>\n",
              "      <th>tenure_group_49 - 60</th>\n",
              "      <th>tenure_group_61 - 72</th>\n",
              "    </tr>\n",
              "  </thead>\n",
              "  <tbody>\n",
              "    <tr>\n",
              "      <th>0</th>\n",
              "      <td>0</td>\n",
              "      <td>29.85</td>\n",
              "      <td>29.85</td>\n",
              "      <td>0</td>\n",
              "      <td>0</td>\n",
              "      <td>0</td>\n",
              "      <td>1</td>\n",
              "      <td>0</td>\n",
              "      <td>0</td>\n",
              "      <td>1</td>\n",
              "      <td>...</td>\n",
              "      <td>0</td>\n",
              "      <td>0</td>\n",
              "      <td>0</td>\n",
              "      <td>1</td>\n",
              "      <td>1</td>\n",
              "      <td>0</td>\n",
              "      <td>0</td>\n",
              "      <td>0</td>\n",
              "      <td>0</td>\n",
              "      <td>0</td>\n",
              "    </tr>\n",
              "    <tr>\n",
              "      <th>1</th>\n",
              "      <td>0</td>\n",
              "      <td>56.95</td>\n",
              "      <td>1889.50</td>\n",
              "      <td>0</td>\n",
              "      <td>1</td>\n",
              "      <td>1</td>\n",
              "      <td>0</td>\n",
              "      <td>0</td>\n",
              "      <td>1</td>\n",
              "      <td>0</td>\n",
              "      <td>...</td>\n",
              "      <td>1</td>\n",
              "      <td>0</td>\n",
              "      <td>0</td>\n",
              "      <td>0</td>\n",
              "      <td>0</td>\n",
              "      <td>0</td>\n",
              "      <td>1</td>\n",
              "      <td>0</td>\n",
              "      <td>0</td>\n",
              "      <td>0</td>\n",
              "    </tr>\n",
              "    <tr>\n",
              "      <th>2</th>\n",
              "      <td>0</td>\n",
              "      <td>53.85</td>\n",
              "      <td>108.15</td>\n",
              "      <td>1</td>\n",
              "      <td>1</td>\n",
              "      <td>1</td>\n",
              "      <td>0</td>\n",
              "      <td>0</td>\n",
              "      <td>1</td>\n",
              "      <td>0</td>\n",
              "      <td>...</td>\n",
              "      <td>0</td>\n",
              "      <td>0</td>\n",
              "      <td>0</td>\n",
              "      <td>0</td>\n",
              "      <td>1</td>\n",
              "      <td>0</td>\n",
              "      <td>0</td>\n",
              "      <td>0</td>\n",
              "      <td>0</td>\n",
              "      <td>0</td>\n",
              "    </tr>\n",
              "    <tr>\n",
              "      <th>3</th>\n",
              "      <td>0</td>\n",
              "      <td>42.30</td>\n",
              "      <td>1840.75</td>\n",
              "      <td>0</td>\n",
              "      <td>1</td>\n",
              "      <td>1</td>\n",
              "      <td>0</td>\n",
              "      <td>0</td>\n",
              "      <td>0</td>\n",
              "      <td>1</td>\n",
              "      <td>...</td>\n",
              "      <td>1</td>\n",
              "      <td>1</td>\n",
              "      <td>0</td>\n",
              "      <td>0</td>\n",
              "      <td>0</td>\n",
              "      <td>0</td>\n",
              "      <td>0</td>\n",
              "      <td>1</td>\n",
              "      <td>0</td>\n",
              "      <td>0</td>\n",
              "    </tr>\n",
              "    <tr>\n",
              "      <th>4</th>\n",
              "      <td>0</td>\n",
              "      <td>70.70</td>\n",
              "      <td>151.65</td>\n",
              "      <td>1</td>\n",
              "      <td>0</td>\n",
              "      <td>1</td>\n",
              "      <td>0</td>\n",
              "      <td>0</td>\n",
              "      <td>1</td>\n",
              "      <td>0</td>\n",
              "      <td>...</td>\n",
              "      <td>0</td>\n",
              "      <td>0</td>\n",
              "      <td>0</td>\n",
              "      <td>1</td>\n",
              "      <td>1</td>\n",
              "      <td>0</td>\n",
              "      <td>0</td>\n",
              "      <td>0</td>\n",
              "      <td>0</td>\n",
              "      <td>0</td>\n",
              "    </tr>\n",
              "  </tbody>\n",
              "</table>\n",
              "<p>5 rows × 37 columns</p>\n",
              "</div>"
            ],
            "text/plain": [
              "   SeniorCitizen  MonthlyCharges  TotalCharges  Churn  gender_Male  \\\n",
              "0              0           29.85         29.85      0            0   \n",
              "1              0           56.95       1889.50      0            1   \n",
              "2              0           53.85        108.15      1            1   \n",
              "3              0           42.30       1840.75      0            1   \n",
              "4              0           70.70        151.65      1            0   \n",
              "\n",
              "   Partner_No  Partner_Yes  Dependents_Yes  PhoneService_Yes  \\\n",
              "0           0            1               0                 0   \n",
              "1           1            0               0                 1   \n",
              "2           1            0               0                 1   \n",
              "3           1            0               0                 0   \n",
              "4           1            0               0                 1   \n",
              "\n",
              "   MultipleLines_No phone service  ...  PaperlessBilling_No  \\\n",
              "0                               1  ...                    0   \n",
              "1                               0  ...                    1   \n",
              "2                               0  ...                    0   \n",
              "3                               1  ...                    1   \n",
              "4                               0  ...                    0   \n",
              "\n",
              "   PaymentMethod_Bank transfer (automatic)  \\\n",
              "0                                        0   \n",
              "1                                        0   \n",
              "2                                        0   \n",
              "3                                        1   \n",
              "4                                        0   \n",
              "\n",
              "   PaymentMethod_Credit card (automatic)  PaymentMethod_Electronic check  \\\n",
              "0                                      0                               1   \n",
              "1                                      0                               0   \n",
              "2                                      0                               0   \n",
              "3                                      0                               0   \n",
              "4                                      0                               1   \n",
              "\n",
              "   tenure_group_1 - 12  tenure_group_13 - 24  tenure_group_25 - 36  \\\n",
              "0                    1                     0                     0   \n",
              "1                    0                     0                     1   \n",
              "2                    1                     0                     0   \n",
              "3                    0                     0                     0   \n",
              "4                    1                     0                     0   \n",
              "\n",
              "   tenure_group_37 - 48  tenure_group_49 - 60  tenure_group_61 - 72  \n",
              "0                     0                     0                     0  \n",
              "1                     0                     0                     0  \n",
              "2                     0                     0                     0  \n",
              "3                     1                     0                     0  \n",
              "4                     0                     0                     0  \n",
              "\n",
              "[5 rows x 37 columns]"
            ]
          },
          "execution_count": 115,
          "metadata": {},
          "output_type": "execute_result"
        }
      ],
      "source": [
        "tel_df = pd.read_csv('/home/shoaib/Code/Churn_pred/app/data/Cleaned_Telecom_Dataset_New.csv')\n",
        "tel_df = tel_df.drop('Unnamed: 0', axis=1) \n",
        "tel_df.head()"
      ]
    },
    {
      "cell_type": "markdown",
      "id": "c8dc4c3f-37ac-4ea7-8005-3afd35a9c3d5",
      "metadata": {
        "id": "c8dc4c3f-37ac-4ea7-8005-3afd35a9c3d5"
      },
      "source": [
        "## Feature Scaling"
      ]
    },
    {
      "cell_type": "code",
      "execution_count": 116,
      "id": "d53e24f3-8abf-4871-a67a-ae2a3d84bca3",
      "metadata": {
        "id": "d53e24f3-8abf-4871-a67a-ae2a3d84bca3"
      },
      "outputs": [],
      "source": [
        "from sklearn.preprocessing import StandardScaler\n",
        "scaler = StandardScaler()\n",
        "scaler.fit(tel_df.drop(['Churn'], axis=1))\n",
        "scaled_features = scaler.transform(tel_df.drop('Churn', axis=1))\n"
      ]
    },
    {
      "cell_type": "markdown",
      "id": "a69768ef-e5f4-4635-ba8f-0dfa06738531",
      "metadata": {
        "id": "a69768ef-e5f4-4635-ba8f-0dfa06738531"
      },
      "source": [
        "## Feature Selection"
      ]
    },
    {
      "cell_type": "code",
      "execution_count": 117,
      "id": "0bf26ced-8399-49c1-b565-c371df0b9d26",
      "metadata": {
        "id": "0bf26ced-8399-49c1-b565-c371df0b9d26"
      },
      "outputs": [],
      "source": [
        "X = scaled_features\n",
        "y = tel_df['Churn']"
      ]
    },
    {
      "cell_type": "markdown",
      "id": "215d1da0-1ced-4b5d-9bf8-3ad1c7fc118e",
      "metadata": {
        "id": "215d1da0-1ced-4b5d-9bf8-3ad1c7fc118e"
      },
      "source": [
        "## Train Test Split"
      ]
    },
    {
      "cell_type": "code",
      "execution_count": 118,
      "id": "088f748f-8e52-4d1a-b06b-9fe6ac3184a3",
      "metadata": {
        "id": "088f748f-8e52-4d1a-b06b-9fe6ac3184a3"
      },
      "outputs": [],
      "source": [
        "X_train, X_test, y_train, y_test = train_test_split(X, y, test_size=0.3, random_state=42)"
      ]
    },
    {
      "cell_type": "markdown",
      "id": "d706abb2-1d9d-4b94-9462-7de73cccf4de",
      "metadata": {
        "id": "d706abb2-1d9d-4b94-9462-7de73cccf4de"
      },
      "source": [
        "# With Python Package"
      ]
    },
    {
      "cell_type": "code",
      "execution_count": 119,
      "id": "e5d626ba-dc1a-485a-be35-9637dd58c7df",
      "metadata": {
        "id": "e5d626ba-dc1a-485a-be35-9637dd58c7df",
        "outputId": "a48b03bb-8961-4be3-e12f-f2a331f21d8f"
      },
      "outputs": [
        {
          "data": {
            "text/plain": [
              "array([0, 0, 0, ..., 0, 0, 0])"
            ]
          },
          "execution_count": 119,
          "metadata": {},
          "output_type": "execute_result"
        }
      ],
      "source": [
        "# Model Training\n",
        "model_rf = RandomForestClassifier(n_estimators=100, random_state=42, max_depth=6, min_samples_leaf=8)\n",
        "model_rf.fit(X_train, y_train)\n",
        "\n",
        "# Predictions\n",
        "y_pred = model_rf.predict(X_test)\n",
        "y_pred"
      ]
    },
    {
      "cell_type": "markdown",
      "id": "40f4c3f4-2959-4d07-a4db-9adf404d61ab",
      "metadata": {
        "id": "40f4c3f4-2959-4d07-a4db-9adf404d61ab"
      },
      "source": [
        "## Mean Squared Error"
      ]
    },
    {
      "cell_type": "code",
      "execution_count": 120,
      "id": "028db568-4b73-442d-be7f-daa30c39ba8e",
      "metadata": {
        "id": "028db568-4b73-442d-be7f-daa30c39ba8e",
        "outputId": "306f9fac-fc3f-414a-e03b-87b6f22471bd"
      },
      "outputs": [
        {
          "name": "stdout",
          "output_type": "stream",
          "text": [
            "Mean Squared Error: 0.2104265402843602\n"
          ]
        }
      ],
      "source": [
        "mse = mean_squared_error(y_test, y_pred)\n",
        "print('Mean Squared Error:', mse)"
      ]
    },
    {
      "cell_type": "markdown",
      "id": "2213abad-0ffd-427a-bb51-fd9a0589dc1a",
      "metadata": {
        "id": "2213abad-0ffd-427a-bb51-fd9a0589dc1a"
      },
      "source": [
        "## Accuracy & Other Metrics"
      ]
    },
    {
      "cell_type": "code",
      "execution_count": 121,
      "id": "5b45a327-d5fb-4b3a-b464-839628db1586",
      "metadata": {
        "id": "5b45a327-d5fb-4b3a-b464-839628db1586",
        "outputId": "554014eb-b9e4-439e-92af-b981cb1ab881"
      },
      "outputs": [
        {
          "name": "stdout",
          "output_type": "stream",
          "text": [
            "Accuracy: 0.7895734597156399\n",
            "              precision    recall  f1-score   support\n",
            "\n",
            "           0       0.82      0.91      0.86      1549\n",
            "           1       0.65      0.44      0.53       561\n",
            "\n",
            "    accuracy                           0.79      2110\n",
            "   macro avg       0.74      0.68      0.70      2110\n",
            "weighted avg       0.78      0.79      0.78      2110\n",
            "\n"
          ]
        }
      ],
      "source": [
        "print('Accuracy:', accuracy_score(y_test, y_pred))\n",
        "print(classification_report(y_test, y_pred, labels=[0, 1]))"
      ]
    },
    {
      "cell_type": "markdown",
      "id": "6524dd11-d66c-42f6-9a95-752f07673abd",
      "metadata": {
        "id": "6524dd11-d66c-42f6-9a95-752f07673abd"
      },
      "source": [
        "## Confusion Matrix"
      ]
    },
    {
      "cell_type": "code",
      "execution_count": 122,
      "id": "a2311745-bbcc-47e4-8edf-aa5e621bd550",
      "metadata": {
        "id": "a2311745-bbcc-47e4-8edf-aa5e621bd550",
        "outputId": "3d09dac8-00a9-4d20-cd19-ef56999d6793"
      },
      "outputs": [
        {
          "data": {
            "image/png": "[encoded data removed]",
            "text/plain": [
              "<Figure size 800x600 with 2 Axes>"
            ]
          },
          "metadata": {},
          "output_type": "display_data"
        }
      ],
      "source": [
        "confusion_matrix_rf = confusion_matrix(y_test, y_pred)\n",
        "plt.figure(figsize=(8, 6))\n",
        "sns.heatmap(confusion_matrix_rf, annot=True, cmap='BuPu', fmt='g')\n",
        "plt.title('Confusion Matrix')\n",
        "plt.xlabel('Predicted Values')\n",
        "plt.ylabel('Actual Values')\n",
        "plt.xticks([0.5, 1.5], ['Not Churned', 'Churned'])\n",
        "plt.yticks([0.5, 1.5], ['Not Churned', 'Churned'])\n",
        "plt.show()\n"
      ]
    },
    {
      "cell_type": "markdown",
      "id": "c4957b47-38ed-469b-8040-b74ef57f8e5a",
      "metadata": {
        "id": "c4957b47-38ed-469b-8040-b74ef57f8e5a"
      },
      "source": [
        "we should focus on recall, precision, and the F1 score for the minority class. It's clear that the precision, recall, and F1 score for Class 1 (churned customers) are very low.\n",
        "\n",
        "Therefore, we will use SMOTEENN (Over Sampling + ENN) to address this issue."
      ]
    },
    {
      "cell_type": "markdown",
      "id": "d6a956fd-184d-46fe-848f-7c2cda837135",
      "metadata": {
        "id": "d6a956fd-184d-46fe-848f-7c2cda837135"
      },
      "source": [
        "## SMOTEENN"
      ]
    },
    {
      "cell_type": "code",
      "execution_count": 123,
      "id": "959dc10c-db95-4fcf-b963-524682cf45e4",
      "metadata": {
        "id": "959dc10c-db95-4fcf-b963-524682cf45e4"
      },
      "outputs": [],
      "source": [
        "sm = SMOTE(random_state=42)\n",
        "sm = SMOTEENN(smote=sm)\n",
        "X_resampled, y_resampled = sm.fit_resample(X, y)"
      ]
    },
    {
      "cell_type": "markdown",
      "id": "a65b9386-402f-4268-826d-2556f213ebf0",
      "metadata": {
        "id": "a65b9386-402f-4268-826d-2556f213ebf0"
      },
      "source": [
        "## Train Test Split"
      ]
    },
    {
      "cell_type": "code",
      "execution_count": 124,
      "id": "4cc0bfbe-647a-4041-81c1-ff4a0937ff95",
      "metadata": {
        "id": "4cc0bfbe-647a-4041-81c1-ff4a0937ff95"
      },
      "outputs": [],
      "source": [
        "Xr_train, Xr_test, yr_train, yr_test = train_test_split(X_resampled, y_resampled, test_size=0.3, random_state=42)"
      ]
    },
    {
      "cell_type": "markdown",
      "id": "66faf13d-eca0-47af-804f-c430d0f9436b",
      "metadata": {
        "id": "66faf13d-eca0-47af-804f-c430d0f9436b"
      },
      "source": [
        "## Model Training with Resampled Data"
      ]
    },
    {
      "cell_type": "code",
      "execution_count": 125,
      "id": "eb245369-e4a8-4248-b8bc-70def2befc92",
      "metadata": {
        "id": "eb245369-e4a8-4248-b8bc-70def2befc92",
        "outputId": "c61d8617-a2d0-4838-d560-c251ba3e7fd8"
      },
      "outputs": [
        {
          "data": {
            "text/html": [
              "<style>#sk-container-id-7 {\n",
              "  /* Definition of color scheme common for light and dark mode */\n",
              "  --sklearn-color-text: black;\n",
              "  --sklearn-color-line: gray;\n",
              "  /* Definition of color scheme for unfitted estimators */\n",
              "  --sklearn-color-unfitted-level-0: #fff5e6;\n",
              "  --sklearn-color-unfitted-level-1: #f6e4d2;\n",
              "  --sklearn-color-unfitted-level-2: #ffe0b3;\n",
              "  --sklearn-color-unfitted-level-3: chocolate;\n",
              "  /* Definition of color scheme for fitted estimators */\n",
              "  --sklearn-color-fitted-level-0: #f0f8ff;\n",
              "  --sklearn-color-fitted-level-1: #d4ebff;\n",
              "  --sklearn-color-fitted-level-2: #b3dbfd;\n",
              "  --sklearn-color-fitted-level-3: cornflowerblue;\n",
              "\n",
              "  /* Specific color for light theme */\n",
              "  --sklearn-color-text-on-default-background: var(--sg-text-color, var(--theme-code-foreground, var(--jp-content-font-color1, black)));\n",
              "  --sklearn-color-background: var(--sg-background-color, var(--theme-background, var(--jp-layout-color0, white)));\n",
              "  --sklearn-color-border-box: var(--sg-text-color, var(--theme-code-foreground, var(--jp-content-font-color1, black)));\n",
              "  --sklearn-color-icon: #696969;\n",
              "\n",
              "  @media (prefers-color-scheme: dark) {\n",
              "    /* Redefinition of color scheme for dark theme */\n",
              "    --sklearn-color-text-on-default-background: var(--sg-text-color, var(--theme-code-foreground, var(--jp-content-font-color1, white)));\n",
              "    --sklearn-color-background: var(--sg-background-color, var(--theme-background, var(--jp-layout-color0, #111)));\n",
              "    --sklearn-color-border-box: var(--sg-text-color, var(--theme-code-foreground, var(--jp-content-font-color1, white)));\n",
              "    --sklearn-color-icon: #878787;\n",
              "  }\n",
              "}\n",
              "\n",
              "#sk-container-id-7 {\n",
              "  color: var(--sklearn-color-text);\n",
              "}\n",
              "\n",
              "#sk-container-id-7 pre {\n",
              "  padding: 0;\n",
              "}\n",
              "\n",
              "#sk-container-id-7 input.sk-hidden--visually {\n",
              "  border: 0;\n",
              "  clip: rect(1px 1px 1px 1px);\n",
              "  clip: rect(1px, 1px, 1px, 1px);\n",
              "  height: 1px;\n",
              "  margin: -1px;\n",
              "  overflow: hidden;\n",
              "  padding: 0;\n",
              "  position: absolute;\n",
              "  width: 1px;\n",
              "}\n",
              "\n",
              "#sk-container-id-7 div.sk-dashed-wrapped {\n",
              "  border: 1px dashed var(--sklearn-color-line);\n",
              "  margin: 0 0.4em 0.5em 0.4em;\n",
              "  box-sizing: border-box;\n",
              "  padding-bottom: 0.4em;\n",
              "  background-color: var(--sklearn-color-background);\n",
              "}\n",
              "\n",
              "#sk-container-id-7 div.sk-container {\n",
              "  /* jupyter's `normalize.less` sets `[hidden] { display: none; }`\n",
              "     but bootstrap.min.css set `[hidden] { display: none !important; }`\n",
              "     so we also need the `!important` here to be able to override the\n",
              "     default hidden behavior on the sphinx rendered scikit-learn.org.\n",
              "     See: https://github.com/scikit-learn/scikit-learn/issues/21755 */\n",
              "  display: inline-block !important;\n",
              "  position: relative;\n",
              "}\n",
              "\n",
              "#sk-container-id-7 div.sk-text-repr-fallback {\n",
              "  display: none;\n",
              "}\n",
              "\n",
              "div.sk-parallel-item,\n",
              "div.sk-serial,\n",
              "div.sk-item {\n",
              "  /* draw centered vertical line to link estimators */\n",
              "  background-image: linear-gradient(var(--sklearn-color-text-on-default-background), var(--sklearn-color-text-on-default-background));\n",
              "  background-size: 2px 100%;\n",
              "  background-repeat: no-repeat;\n",
              "  background-position: center center;\n",
              "}\n",
              "\n",
              "/* Parallel-specific style estimator block */\n",
              "\n",
              "#sk-container-id-7 div.sk-parallel-item::after {\n",
              "  content: \"\";\n",
              "  width: 100%;\n",
              "  border-bottom: 2px solid var(--sklearn-color-text-on-default-background);\n",
              "  flex-grow: 1;\n",
              "}\n",
              "\n",
              "#sk-container-id-7 div.sk-parallel {\n",
              "  display: flex;\n",
              "  align-items: stretch;\n",
              "  justify-content: center;\n",
              "  background-color: var(--sklearn-color-background);\n",
              "  position: relative;\n",
              "}\n",
              "\n",
              "#sk-container-id-7 div.sk-parallel-item {\n",
              "  display: flex;\n",
              "  flex-direction: column;\n",
              "}\n",
              "\n",
              "#sk-container-id-7 div.sk-parallel-item:first-child::after {\n",
              "  align-self: flex-end;\n",
              "  width: 50%;\n",
              "}\n",
              "\n",
              "#sk-container-id-7 div.sk-parallel-item:last-child::after {\n",
              "  align-self: flex-start;\n",
              "  width: 50%;\n",
              "}\n",
              "\n",
              "#sk-container-id-7 div.sk-parallel-item:only-child::after {\n",
              "  width: 0;\n",
              "}\n",
              "\n",
              "/* Serial-specific style estimator block */\n",
              "\n",
              "#sk-container-id-7 div.sk-serial {\n",
              "  display: flex;\n",
              "  flex-direction: column;\n",
              "  align-items: center;\n",
              "  background-color: var(--sklearn-color-background);\n",
              "  padding-right: 1em;\n",
              "  padding-left: 1em;\n",
              "}\n",
              "\n",
              "\n",
              "/* Toggleable style: style used for estimator/Pipeline/ColumnTransformer box that is\n",
              "clickable and can be expanded/collapsed.\n",
              "- Pipeline and ColumnTransformer use this feature and define the default style\n",
              "- Estimators will overwrite some part of the style using the `sk-estimator` class\n",
              "*/\n",
              "\n",
              "/* Pipeline and ColumnTransformer style (default) */\n",
              "\n",
              "#sk-container-id-7 div.sk-toggleable {\n",
              "  /* Default theme specific background. It is overwritten whether we have a\n",
              "  specific estimator or a Pipeline/ColumnTransformer */\n",
              "  background-color: var(--sklearn-color-background);\n",
              "}\n",
              "\n",
              "/* Toggleable label */\n",
              "#sk-container-id-7 label.sk-toggleable__label {\n",
              "  cursor: pointer;\n",
              "  display: block;\n",
              "  width: 100%;\n",
              "  margin-bottom: 0;\n",
              "  padding: 0.5em;\n",
              "  box-sizing: border-box;\n",
              "  text-align: center;\n",
              "}\n",
              "\n",
              "#sk-container-id-7 label.sk-toggleable__label-arrow:before {\n",
              "  /* Arrow on the left of the label */\n",
              "  content: \"▸\";\n",
              "  float: left;\n",
              "  margin-right: 0.25em;\n",
              "  color: var(--sklearn-color-icon);\n",
              "}\n",
              "\n",
              "#sk-container-id-7 label.sk-toggleable__label-arrow:hover:before {\n",
              "  color: var(--sklearn-color-text);\n",
              "}\n",
              "\n",
              "/* Toggleable content - dropdown */\n",
              "\n",
              "#sk-container-id-7 div.sk-toggleable__content {\n",
              "  max-height: 0;\n",
              "  max-width: 0;\n",
              "  overflow: hidden;\n",
              "  text-align: left;\n",
              "  /* unfitted */\n",
              "  background-color: var(--sklearn-color-unfitted-level-0);\n",
              "}\n",
              "\n",
              "#sk-container-id-7 div.sk-toggleable__content.fitted {\n",
              "  /* fitted */\n",
              "  background-color: var(--sklearn-color-fitted-level-0);\n",
              "}\n",
              "\n",
              "#sk-container-id-7 div.sk-toggleable__content pre {\n",
              "  margin: 0.2em;\n",
              "  border-radius: 0.25em;\n",
              "  color: var(--sklearn-color-text);\n",
              "  /* unfitted */\n",
              "  background-color: var(--sklearn-color-unfitted-level-0);\n",
              "}\n",
              "\n",
              "#sk-container-id-7 div.sk-toggleable__content.fitted pre {\n",
              "  /* unfitted */\n",
              "  background-color: var(--sklearn-color-fitted-level-0);\n",
              "}\n",
              "\n",
              "#sk-container-id-7 input.sk-toggleable__control:checked~div.sk-toggleable__content {\n",
              "  /* Expand drop-down */\n",
              "  max-height: 200px;\n",
              "  max-width: 100%;\n",
              "  overflow: auto;\n",
              "}\n",
              "\n",
              "#sk-container-id-7 input.sk-toggleable__control:checked~label.sk-toggleable__label-arrow:before {\n",
              "  content: \"▾\";\n",
              "}\n",
              "\n",
              "/* Pipeline/ColumnTransformer-specific style */\n",
              "\n",
              "#sk-container-id-7 div.sk-label input.sk-toggleable__control:checked~label.sk-toggleable__label {\n",
              "  color: var(--sklearn-color-text);\n",
              "  background-color: var(--sklearn-color-unfitted-level-2);\n",
              "}\n",
              "\n",
              "#sk-container-id-7 div.sk-label.fitted input.sk-toggleable__control:checked~label.sk-toggleable__label {\n",
              "  background-color: var(--sklearn-color-fitted-level-2);\n",
              "}\n",
              "\n",
              "/* Estimator-specific style */\n",
              "\n",
              "/* Colorize estimator box */\n",
              "#sk-container-id-7 div.sk-estimator input.sk-toggleable__control:checked~label.sk-toggleable__label {\n",
              "  /* unfitted */\n",
              "  background-color: var(--sklearn-color-unfitted-level-2);\n",
              "}\n",
              "\n",
              "#sk-container-id-7 div.sk-estimator.fitted input.sk-toggleable__control:checked~label.sk-toggleable__label {\n",
              "  /* fitted */\n",
              "  background-color: var(--sklearn-color-fitted-level-2);\n",
              "}\n",
              "\n",
              "#sk-container-id-7 div.sk-label label.sk-toggleable__label,\n",
              "#sk-container-id-7 div.sk-label label {\n",
              "  /* The background is the default theme color */\n",
              "  color: var(--sklearn-color-text-on-default-background);\n",
              "}\n",
              "\n",
              "/* On hover, darken the color of the background */\n",
              "#sk-container-id-7 div.sk-label:hover label.sk-toggleable__label {\n",
              "  color: var(--sklearn-color-text);\n",
              "  background-color: var(--sklearn-color-unfitted-level-2);\n",
              "}\n",
              "\n",
              "/* Label box, darken color on hover, fitted */\n",
              "#sk-container-id-7 div.sk-label.fitted:hover label.sk-toggleable__label.fitted {\n",
              "  color: var(--sklearn-color-text);\n",
              "  background-color: var(--sklearn-color-fitted-level-2);\n",
              "}\n",
              "\n",
              "/* Estimator label */\n",
              "\n",
              "#sk-container-id-7 div.sk-label label {\n",
              "  font-family: monospace;\n",
              "  font-weight: bold;\n",
              "  display: inline-block;\n",
              "  line-height: 1.2em;\n",
              "}\n",
              "\n",
              "#sk-container-id-7 div.sk-label-container {\n",
              "  text-align: center;\n",
              "}\n",
              "\n",
              "/* Estimator-specific */\n",
              "#sk-container-id-7 div.sk-estimator {\n",
              "  font-family: monospace;\n",
              "  border: 1px dotted var(--sklearn-color-border-box);\n",
              "  border-radius: 0.25em;\n",
              "  box-sizing: border-box;\n",
              "  margin-bottom: 0.5em;\n",
              "  /* unfitted */\n",
              "  background-color: var(--sklearn-color-unfitted-level-0);\n",
              "}\n",
              "\n",
              "#sk-container-id-7 div.sk-estimator.fitted {\n",
              "  /* fitted */\n",
              "  background-color: var(--sklearn-color-fitted-level-0);\n",
              "}\n",
              "\n",
              "/* on hover */\n",
              "#sk-container-id-7 div.sk-estimator:hover {\n",
              "  /* unfitted */\n",
              "  background-color: var(--sklearn-color-unfitted-level-2);\n",
              "}\n",
              "\n",
              "#sk-container-id-7 div.sk-estimator.fitted:hover {\n",
              "  /* fitted */\n",
              "  background-color: var(--sklearn-color-fitted-level-2);\n",
              "}\n",
              "\n",
              "/* Specification for estimator info (e.g. \"i\" and \"?\") */\n",
              "\n",
              "/* Common style for \"i\" and \"?\" */\n",
              "\n",
              ".sk-estimator-doc-link,\n",
              "a:link.sk-estimator-doc-link,\n",
              "a:visited.sk-estimator-doc-link {\n",
              "  float: right;\n",
              "  font-size: smaller;\n",
              "  line-height: 1em;\n",
              "  font-family: monospace;\n",
              "  background-color: var(--sklearn-color-background);\n",
              "  border-radius: 1em;\n",
              "  height: 1em;\n",
              "  width: 1em;\n",
              "  text-decoration: none !important;\n",
              "  margin-left: 1ex;\n",
              "  /* unfitted */\n",
              "  border: var(--sklearn-color-unfitted-level-1) 1pt solid;\n",
              "  color: var(--sklearn-color-unfitted-level-1);\n",
              "}\n",
              "\n",
              ".sk-estimator-doc-link.fitted,\n",
              "a:link.sk-estimator-doc-link.fitted,\n",
              "a:visited.sk-estimator-doc-link.fitted {\n",
              "  /* fitted */\n",
              "  border: var(--sklearn-color-fitted-level-1) 1pt solid;\n",
              "  color: var(--sklearn-color-fitted-level-1);\n",
              "}\n",
              "\n",
              "/* On hover */\n",
              "div.sk-estimator:hover .sk-estimator-doc-link:hover,\n",
              ".sk-estimator-doc-link:hover,\n",
              "div.sk-label-container:hover .sk-estimator-doc-link:hover,\n",
              ".sk-estimator-doc-link:hover {\n",
              "  /* unfitted */\n",
              "  background-color: var(--sklearn-color-unfitted-level-3);\n",
              "  color: var(--sklearn-color-background);\n",
              "  text-decoration: none;\n",
              "}\n",
              "\n",
              "div.sk-estimator.fitted:hover .sk-estimator-doc-link.fitted:hover,\n",
              ".sk-estimator-doc-link.fitted:hover,\n",
              "div.sk-label-container:hover .sk-estimator-doc-link.fitted:hover,\n",
              ".sk-estimator-doc-link.fitted:hover {\n",
              "  /* fitted */\n",
              "  background-color: var(--sklearn-color-fitted-level-3);\n",
              "  color: var(--sklearn-color-background);\n",
              "  text-decoration: none;\n",
              "}\n",
              "\n",
              "/* Span, style for the box shown on hovering the info icon */\n",
              ".sk-estimator-doc-link span {\n",
              "  display: none;\n",
              "  z-index: 9999;\n",
              "  position: relative;\n",
              "  font-weight: normal;\n",
              "  right: .2ex;\n",
              "  padding: .5ex;\n",
              "  margin: .5ex;\n",
              "  width: min-content;\n",
              "  min-width: 20ex;\n",
              "  max-width: 50ex;\n",
              "  color: var(--sklearn-color-text);\n",
              "  box-shadow: 2pt 2pt 4pt #999;\n",
              "  /* unfitted */\n",
              "  background: var(--sklearn-color-unfitted-level-0);\n",
              "  border: .5pt solid var(--sklearn-color-unfitted-level-3);\n",
              "}\n",
              "\n",
              ".sk-estimator-doc-link.fitted span {\n",
              "  /* fitted */\n",
              "  background: var(--sklearn-color-fitted-level-0);\n",
              "  border: var(--sklearn-color-fitted-level-3);\n",
              "}\n",
              "\n",
              ".sk-estimator-doc-link:hover span {\n",
              "  display: block;\n",
              "}\n",
              "\n",
              "/* \"?\"-specific style due to the `<a>` HTML tag */\n",
              "\n",
              "#sk-container-id-7 a.estimator_doc_link {\n",
              "  float: right;\n",
              "  font-size: 1rem;\n",
              "  line-height: 1em;\n",
              "  font-family: monospace;\n",
              "  background-color: var(--sklearn-color-background);\n",
              "  border-radius: 1rem;\n",
              "  height: 1rem;\n",
              "  width: 1rem;\n",
              "  text-decoration: none;\n",
              "  /* unfitted */\n",
              "  color: var(--sklearn-color-unfitted-level-1);\n",
              "  border: var(--sklearn-color-unfitted-level-1) 1pt solid;\n",
              "}\n",
              "\n",
              "#sk-container-id-7 a.estimator_doc_link.fitted {\n",
              "  /* fitted */\n",
              "  border: var(--sklearn-color-fitted-level-1) 1pt solid;\n",
              "  color: var(--sklearn-color-fitted-level-1);\n",
              "}\n",
              "\n",
              "/* On hover */\n",
              "#sk-container-id-7 a.estimator_doc_link:hover {\n",
              "  /* unfitted */\n",
              "  background-color: var(--sklearn-color-unfitted-level-3);\n",
              "  color: var(--sklearn-color-background);\n",
              "  text-decoration: none;\n",
              "}\n",
              "\n",
              "#sk-container-id-7 a.estimator_doc_link.fitted:hover {\n",
              "  /* fitted */\n",
              "  background-color: var(--sklearn-color-fitted-level-3);\n",
              "}\n",
              "</style><div id=\"sk-container-id-7\" class=\"sk-top-container\"><div class=\"sk-text-repr-fallback\"><pre>RandomForestClassifier(max_depth=6, min_samples_leaf=8, random_state=42)</pre><b>In a Jupyter environment, please rerun this cell to show the HTML representation or trust the notebook. <br />On GitHub, the HTML representation is unable to render, please try loading this page with nbviewer.org.</b></div><div class=\"sk-container\" hidden><div class=\"sk-item\"><div class=\"sk-estimator fitted sk-toggleable\"><input class=\"sk-toggleable__control sk-hidden--visually\" id=\"sk-estimator-id-7\" type=\"checkbox\" checked><label for=\"sk-estimator-id-7\" class=\"sk-toggleable__label fitted sk-toggleable__label-arrow fitted\">&nbsp;&nbsp;RandomForestClassifier<a class=\"sk-estimator-doc-link fitted\" rel=\"noreferrer\" target=\"_blank\" href=\"https://scikit-learn.org/1.4/modules/generated/sklearn.ensemble.RandomForestClassifier.html\">?<span>Documentation for RandomForestClassifier</span></a><span class=\"sk-estimator-doc-link fitted\">i<span>Fitted</span></span></label><div class=\"sk-toggleable__content fitted\"><pre>RandomForestClassifier(max_depth=6, min_samples_leaf=8, random_state=42)</pre></div> </div></div></div></div>"
            ],
            "text/plain": [
              "RandomForestClassifier(max_depth=6, min_samples_leaf=8, random_state=42)"
            ]
          },
          "execution_count": 125,
          "metadata": {},
          "output_type": "execute_result"
        }
      ],
      "source": [
        "model_rf_smote = RandomForestClassifier(n_estimators=100, random_state=42, max_depth=6, min_samples_leaf=8)\n",
        "model_rf_smote.fit(Xr_train, yr_train)"
      ]
    },
    {
      "cell_type": "code",
      "execution_count": 126,
      "id": "a7c4b7ef-90d2-431d-bb2c-d7dbd327c82f",
      "metadata": {
        "id": "a7c4b7ef-90d2-431d-bb2c-d7dbd327c82f"
      },
      "outputs": [],
      "source": [
        "# Predictions with Resampled Data\n",
        "yr_pred = model_rf_smote.predict(Xr_test)"
      ]
    },
    {
      "cell_type": "markdown",
      "id": "10f2d644-0866-48bc-b5e9-4231591e7149",
      "metadata": {
        "id": "10f2d644-0866-48bc-b5e9-4231591e7149"
      },
      "source": [
        "## Mean Squared Error"
      ]
    },
    {
      "cell_type": "code",
      "execution_count": 127,
      "id": "bf5147bf-2dbc-4640-a26c-fc704a77059c",
      "metadata": {
        "id": "bf5147bf-2dbc-4640-a26c-fc704a77059c",
        "outputId": "04d0c212-bb76-4c52-bf26-f9c7d2b8040e"
      },
      "outputs": [
        {
          "name": "stdout",
          "output_type": "stream",
          "text": [
            "Mean Squared Error with SMOTEENN: 0.0767236910316226\n"
          ]
        }
      ],
      "source": [
        "mse_smote = mean_squared_error(yr_test, yr_pred)\n",
        "print('Mean Squared Error with SMOTEENN:', mse_smote)"
      ]
    },
    {
      "cell_type": "markdown",
      "id": "26965e96-4284-4205-af4c-9d895ebe1c86",
      "metadata": {
        "id": "26965e96-4284-4205-af4c-9d895ebe1c86"
      },
      "source": [
        "## Accuracy and other metrics"
      ]
    },
    {
      "cell_type": "code",
      "execution_count": 128,
      "id": "91349d02-ba97-46f0-831d-6422650cb7df",
      "metadata": {
        "id": "91349d02-ba97-46f0-831d-6422650cb7df",
        "outputId": "2aaf7a0c-3c25-4824-e817-79db8d4ae3cf"
      },
      "outputs": [
        {
          "name": "stdout",
          "output_type": "stream",
          "text": [
            "Accuracy with SMOTEENN: 0.9232763089683774\n",
            "              precision    recall  f1-score   support\n",
            "\n",
            "           0       0.92      0.91      0.91       865\n",
            "           1       0.93      0.93      0.93      1064\n",
            "\n",
            "    accuracy                           0.92      1929\n",
            "   macro avg       0.92      0.92      0.92      1929\n",
            "weighted avg       0.92      0.92      0.92      1929\n",
            "\n"
          ]
        }
      ],
      "source": [
        "print('Accuracy with SMOTEENN:', accuracy_score(yr_test, yr_pred))\n",
        "print(classification_report(yr_test, yr_pred))"
      ]
    },
    {
      "cell_type": "markdown",
      "id": "dfb9eaf6-628e-489a-a7d4-91ddc7cee093",
      "metadata": {
        "id": "dfb9eaf6-628e-489a-a7d4-91ddc7cee093"
      },
      "source": [
        "# Confusion Matrix with Resampled Data"
      ]
    },
    {
      "cell_type": "code",
      "execution_count": 129,
      "id": "c082e3ef-27c6-4f1f-9bf6-c090f277c63c",
      "metadata": {
        "id": "c082e3ef-27c6-4f1f-9bf6-c090f277c63c",
        "outputId": "2a6beddc-9ee0-49f8-9291-fbcb9af48b93"
      },
      "outputs": [
        {
          "data": {
            "image/png": "[encoded data removed]",
            "text/plain": [
              "<Figure size 800x600 with 2 Axes>"
            ]
          },
          "metadata": {},
          "output_type": "display_data"
        }
      ],
      "source": [
        "confusion_matrix_rf_smote = confusion_matrix(yr_test, yr_pred)\n",
        "plt.figure(figsize=(8, 6))\n",
        "sns.heatmap(confusion_matrix_rf_smote, annot=True, cmap='BuPu', fmt='g')\n",
        "plt.title('Confusion Matrix with SMOTEENN')\n",
        "plt.xlabel('Predicted Values')\n",
        "plt.ylabel('Actual Values')\n",
        "plt.xticks([0.5, 1.5], ['Not Churned', 'Churned'])\n",
        "plt.yticks([0.5, 1.5], ['Not Churned', 'Churned'])\n",
        "plt.show()\n"
      ]
    },
    {
      "cell_type": "markdown",
      "id": "399a60ca-b596-4fd2-93c8-e7435fb08dbf",
      "metadata": {
        "id": "399a60ca-b596-4fd2-93c8-e7435fb08dbf"
      },
      "source": [
        "Now we can see quite better results, i.e. Accuracy: 93% approximately."
      ]
    },
    {
      "cell_type": "markdown",
      "id": "d310aa13-6731-48f4-872c-6b07a1786f57",
      "metadata": {
        "id": "d310aa13-6731-48f4-872c-6b07a1786f57"
      },
      "source": [
        "# WITHOUT PYTHON PACKAGE"
      ]
    },
    {
      "cell_type": "code",
      "execution_count": 130,
      "id": "9e498d7b-f548-467f-bbee-93e013e574c2",
      "metadata": {
        "id": "9e498d7b-f548-467f-bbee-93e013e574c2"
      },
      "outputs": [],
      "source": [
        "class CustomDecisionTreeClassifier:\n",
        "    def __init__(self, max_depth=None):\n",
        "        self.max_depth = max_depth\n",
        "        self.tree = None\n",
        "\n",
        "    def fit(self, X, y):\n",
        "        self.tree = self._grow_tree(X, y)\n",
        "\n",
        "    def _grow_tree(self, X, y, depth=0):\n",
        "        num_samples, num_features = X.shape\n",
        "        num_classes = len(np.unique(y))\n",
        "\n",
        "        # Stopping criteria\n",
        "        if (self.max_depth is not None and depth >= self.max_depth) or num_classes == 1:\n",
        "            return {'leaf': True, 'class': np.argmax(np.bincount(y))}\n",
        "\n",
        "        best_split = None\n",
        "        best_gain = 0.0\n",
        "\n",
        "        # Calculating the entropy of the current node (whole dataset)\n",
        "        current_entropy = self._entropy(y)\n",
        "\n",
        "        # Iterating over each feature to find the best split\n",
        "        for feature_idx in range(num_features):\n",
        "            feature_values = np.unique(X[:, feature_idx])\n",
        "\n",
        "            if len(feature_values) > 10:  # Assuming a feature is continuous if it has more than 10 unique values\n",
        "                # Continuous feature (Reduction of Variance for Splitting point)\n",
        "                sorted_idx = np.argsort(X[:, feature_idx])\n",
        "                for i in range(1, len(sorted_idx)):\n",
        "                    if X[sorted_idx[i], feature_idx] != X[sorted_idx[i - 1], feature_idx]:\n",
        "                        split_value = (X[sorted_idx[i], feature_idx] + X[sorted_idx[i - 1], feature_idx]) / 2.0\n",
        "                        X_left, y_left, X_right, y_right = self._split_continuous(X, y, feature_idx, split_value)\n",
        "                        gain = self._variance_reduction(y, y_left, y_right)\n",
        "                        if gain > best_gain:\n",
        "                            best_gain = gain\n",
        "                            best_split = {'feature_idx': feature_idx, 'split_value': split_value,\n",
        "                                          'X_left': X_left, 'y_left': y_left,\n",
        "                                          'X_right': X_right, 'y_right': y_right}\n",
        "            else:\n",
        "                # Categorical feature\n",
        "                for value in feature_values:\n",
        "                    X_subset, y_subset = self._split_categorical(X, y, feature_idx, value)\n",
        "                    # here current_entropy represents total info gain of particular dataset, y_subset is splited labels, y[~(X[:, feature_idx] == value)] = y - y_subset\n",
        "                    gain = self._information_gain(current_entropy, [y_subset, y[~(X[:, feature_idx] == value)]])\n",
        "                    if gain > best_gain:\n",
        "                        best_gain = gain\n",
        "                        best_split = {'feature_idx': feature_idx, 'value': value,\n",
        "                                      'X_subset': X_subset, 'y_subset': y_subset}\n",
        "\n",
        "        if best_split is None:\n",
        "            return {'leaf': True, 'class': np.argmax(np.bincount(y))}\n",
        "\n",
        "        if 'split_value' in best_split:\n",
        "            # Continuous split\n",
        "            left_subtree = self._grow_tree(best_split['X_left'], best_split['y_left'], depth + 1)\n",
        "            right_subtree = self._grow_tree(best_split['X_right'], best_split['y_right'], depth + 1)\n",
        "            return {'leaf': False, 'feature_idx': best_split['feature_idx'],\n",
        "                    'split_value': best_split['split_value'],\n",
        "                    'left': left_subtree, 'right': right_subtree}\n",
        "        else:\n",
        "            # Categorical split\n",
        "            remaining_X = X[~(X[:, best_split['feature_idx']] == best_split['value'])]\n",
        "            remaining_y = y[~(X[:, best_split['feature_idx']] == best_split['value'])]\n",
        "            subset_tree = self._grow_tree(best_split['X_subset'], best_split['y_subset'], depth + 1)\n",
        "            remaining_tree = self._grow_tree(remaining_X, remaining_y, depth + 1)\n",
        "            return {'leaf': False, 'feature_idx': best_split['feature_idx'], 'value': best_split['value'],\n",
        "                    'subset': subset_tree, 'remaining': remaining_tree}\n",
        "\n",
        "    def _entropy(self, y):\n",
        "        x, counts = np.unique(y, return_counts=True)\n",
        "        probabilities = counts / len(y)\n",
        "        return -np.sum(probabilities * np.log2(probabilities + 1e-10))\n",
        "\n",
        "    def _information_gain(self, parent_entropy, subsets):\n",
        "        total = sum(len(subset) for subset in subsets)\n",
        "        gain = parent_entropy - sum((len(subset) / total) * self._entropy(subset) for subset in subsets)\n",
        "        return gain\n",
        "\n",
        "    def _split_categorical(self, X, y, feature_idx, value):\n",
        "        mask = X[:, feature_idx] == value\n",
        "        return X[mask], y[mask]\n",
        "\n",
        "    def _variance_reduction(self, parent, left, right):\n",
        "        total_var = np.var(parent)\n",
        "        left_var = np.var(left) if len(left) > 0 else 0\n",
        "        right_var = np.var(right) if len(right) > 0 else 0\n",
        "        total_size = len(left) + len(right)\n",
        "        reduction = total_var - ((len(left) / total_size) * left_var + (len(right) / total_size) * right_var)\n",
        "        return reduction\n",
        "\n",
        "    def _split_continuous(self, X, y, feature_idx, split_value):\n",
        "        mask_left = X[:, feature_idx] <= split_value\n",
        "        mask_right = X[:, feature_idx] > split_value\n",
        "        return X[mask_left], y[mask_left], X[mask_right], y[mask_right]\n",
        "\n",
        "    def predict(self, X):\n",
        "        return np.array([self._predict_tree(x, self.tree) for x in X])\n",
        "\n",
        "    def _predict_tree(self, x, node):\n",
        "        if node['leaf']:\n",
        "            return node['class']\n",
        "        else:\n",
        "            # print(f'Current node: {node}')\n",
        "            # print(f'Current feature index: {node[\"feature_idx\"]}')\n",
        "            # print(f'Current value: {x[node[\"feature_idx\"]]}')\n",
        "            if 'split_value' in node:\n",
        "                # Continuous split\n",
        "                if x[node['feature_idx']] <= node['split_value']:\n",
        "                    return self._predict_tree(x, node['left'])\n",
        "                else:\n",
        "                    return self._predict_tree(x, node['right'])\n",
        "            else:\n",
        "                # Categorical split\n",
        "                if x[node['feature_idx']] == node['value']:\n",
        "                    return self._predict_tree(x, node['subset'])\n",
        "                else:\n",
        "                    return self._predict_tree(x, node['remaining'])  # Follow the remaining tree\n",
        "\n"
      ]
    },
    {
      "cell_type": "markdown",
      "id": "30872283-3183-4cd3-a96f-02256e6fc7f9",
      "metadata": {
        "id": "30872283-3183-4cd3-a96f-02256e6fc7f9"
      },
      "source": [
        "## Model Training"
      ]
    },
    {
      "cell_type": "code",
      "execution_count": 131,
      "id": "7f2bcab4-609f-4506-959f-57ec82449116",
      "metadata": {
        "id": "7f2bcab4-609f-4506-959f-57ec82449116",
        "outputId": "fa525824-777f-4d8e-84d3-fb1b52ea1869"
      },
      "outputs": [
        {
          "ename": "NameError",
          "evalue": "name 'DecisionTreeClassifier' is not defined",
          "output_type": "error",
          "traceback": [
            "\u001b[0;31m---------------------------------------------------------------------------\u001b[0m",
            "\u001b[0;31mNameError\u001b[0m                                 Traceback (most recent call last)",
            "Cell \u001b[0;32mIn[131], line 8\u001b[0m\n\u001b[1;32m      5\u001b[0m X_test \u001b[38;5;241m=\u001b[39m np\u001b[38;5;241m.\u001b[39marray(X_test)\n\u001b[1;32m      6\u001b[0m y_test \u001b[38;5;241m=\u001b[39m np\u001b[38;5;241m.\u001b[39marray(y_test)\n\u001b[0;32m----> 8\u001b[0m clf \u001b[38;5;241m=\u001b[39m DecisionTreeClassifier(max_depth\u001b[38;5;241m=\u001b[39m\u001b[38;5;241m6\u001b[39m)\n\u001b[1;32m      9\u001b[0m clf\u001b[38;5;241m.\u001b[39mfit(X_train, y_train)\n\u001b[1;32m     11\u001b[0m y_pred \u001b[38;5;241m=\u001b[39m clf\u001b[38;5;241m.\u001b[39mpredict(X_test)\n",
            "\u001b[0;31mNameError\u001b[0m: name 'DecisionTreeClassifier' is not defined"
          ]
        }
      ],
      "source": [
        "X_train, X_test, y_train, y_test = train_test_split(X, y, test_size=0.3, random_state = 42)\n",
        "\n",
        "X_train = np.array(X_train)\n",
        "y_train = np.array(y_train)\n",
        "X_test = np.array(X_test)\n",
        "y_test = np.array(y_test)\n",
        "\n",
        "clf = DecisionTreeClassifier(max_depth=6)\n",
        "clf.fit(X_train, y_train)\n",
        "\n",
        "y_pred = clf.predict(X_test)\n",
        "y_pred"
      ]
    },
    {
      "cell_type": "code",
      "execution_count": null,
      "id": "92e12619-0750-4439-b246-3c96bcb689d9",
      "metadata": {
        "id": "92e12619-0750-4439-b246-3c96bcb689d9",
        "outputId": "68c426e2-bc7b-4ca1-869a-03026fe639a2"
      },
      "outputs": [
        {
          "name": "stdout",
          "output_type": "stream",
          "text": [
            "Accuracy: 0.8911458333333333\n",
            "Precision for class 0: 0.812\n",
            "Recall for class 0: 0.9747899159663865\n",
            "F1 Score for class 0: 0.8859792689579924\n",
            "Precision for class 1: 0.9771739130434782\n",
            "Recall for class 1: 0.827046918123275\n",
            "F1 Score for class 1: 0.8958644743398108\n"
          ]
        }
      ],
      "source": [
        "yr_test_report = np.array(yr_test)\n",
        "pred_report = np.array(yr_pred)\n",
        "\n",
        "counts = {\n",
        "    'TP': {0: 0, 1: 0},\n",
        "    'FP': {0: 0, 1: 0},\n",
        "    'TN': {0: 0, 1: 0},\n",
        "    'FN': {0: 0, 1: 0}\n",
        "}\n",
        "\n",
        "for yt, yp in zip(yr_test_report, pred_report):\n",
        "    if yt == yp:\n",
        "        counts['TP'][yt] += 1\n",
        "        counts['TN'][1 - yt] += 1\n",
        "    else:\n",
        "        counts['FP'][yp] += 1\n",
        "        counts['FN'][yt] += 1\n",
        "\n",
        "# Initialize metrics\n",
        "metrics = {\n",
        "    'precision': {0: 0, 1: 0},\n",
        "    'recall': {0: 0, 1: 0},\n",
        "    'f1_score': {0: 0, 1: 0},\n",
        "    'accuracy': 0\n",
        "}\n",
        "\n",
        "# Calculate Precision, Recall, and F1 Score for both classes\n",
        "for cls in [0, 1]:\n",
        "    TP = counts['TP'][cls]\n",
        "    FP = counts['FP'][cls]\n",
        "    FN = counts['FN'][cls]\n",
        "    TN = counts['TN'][cls]\n",
        "\n",
        "    precision = TP / (TP + FP) if (TP + FP) > 0 else 0\n",
        "    recall = TP / (TP + FN) if (TP + FN) > 0 else 0\n",
        "    f1_score = 2 * (precision * recall) / (precision + recall) if (precision + recall) > 0 else 0\n",
        "\n",
        "    metrics['precision'][cls] = precision\n",
        "    metrics['recall'][cls] = recall\n",
        "    metrics['f1_score'][cls] = f1_score\n",
        "\n",
        "# Calculate overall accuracy correctly\n",
        "total_correct = sum(counts['TP'].values())  # Only sum true positives for both classes\n",
        "total_predictions = len(yr_test)  # Total predictions (both classes)\n",
        "metrics['accuracy'] = total_correct / total_predictions\n",
        "\n",
        "print(f\"Accuracy: {metrics['accuracy']}\")\n",
        "print(f\"Precision for class 0: {metrics['precision'][0]}\")\n",
        "print(f\"Recall for class 0: {metrics['recall'][0]}\")\n",
        "print(f\"F1 Score for class 0: {metrics['f1_score'][0]}\")\n",
        "print(f\"Precision for class 1: {metrics['precision'][1]}\")\n",
        "print(f\"Recall for class 1: {metrics['recall'][1]}\")\n",
        "print(f\"F1 Score for class 1: {metrics['f1_score'][1]}\")"
      ]
    },
    {
      "cell_type": "code",
      "execution_count": null,
      "id": "a80534de-b6de-44cd-8a1c-841bf480fa59",
      "metadata": {
        "id": "a80534de-b6de-44cd-8a1c-841bf480fa59",
        "outputId": "8f5bc394-1599-4b6b-bbbd-7b27400920e6"
      },
      "outputs": [
        {
          "name": "stdout",
          "output_type": "stream",
          "text": [
            "Before SMOTEENN R1:\n",
            "Accuracy: 0.7772511848341233\n",
            "              precision    recall  f1-score   support\n",
            "\n",
            "           0       0.78      0.97      0.87      1549\n",
            "           1       0.76      0.24      0.36       561\n",
            "\n",
            "    accuracy                           0.78      2110\n",
            "   macro avg       0.77      0.61      0.61      2110\n",
            "weighted avg       0.77      0.78      0.73      2110\n",
            "\n",
            "\n",
            "After SMOTEENN R2:\n",
            "Accuracy: 0.8869791666666667\n",
            "              precision    recall  f1-score   support\n",
            "\n",
            "           0       0.81      0.97      0.88       833\n",
            "           1       0.98      0.82      0.89      1087\n",
            "\n",
            "    accuracy                           0.89      1920\n",
            "   macro avg       0.89      0.90      0.89      1920\n",
            "weighted avg       0.90      0.89      0.89      1920\n",
            "\n"
          ]
        }
      ],
      "source": [
        "import numpy as np\n",
        "from sklearn.base import BaseEstimator, ClassifierMixin\n",
        "from sklearn.utils import check_array, check_X_y\n",
        "\n",
        "class RandomForestClassifier(BaseEstimator, ClassifierMixin):\n",
        "    def __init__(self, n_estimators=100, max_depth=None, min_samples_split=2,\n",
        "                 max_features='sqrt', bootstrap=True, random_state=None):\n",
        "        self.n_estimators = n_estimators\n",
        "        self.max_depth = max_depth\n",
        "        self.min_samples_split = min_samples_split\n",
        "        self.max_features = max_features\n",
        "        self.bootstrap = bootstrap\n",
        "        self.random_state = random_state\n",
        "        self.trees = []\n",
        "\n",
        "    def fit(self, X, y):\n",
        "        X, y = check_X_y(X, y)\n",
        "        self.n_features_ = X.shape[1]\n",
        "\n",
        "        if isinstance(self.max_features, str):\n",
        "            if self.max_features == 'sqrt':\n",
        "                self.max_features_ = int(np.sqrt(self.n_features_))\n",
        "            elif self.max_features == 'log2':\n",
        "                self.max_features_ = int(np.log2(self.n_features_))\n",
        "            else:\n",
        "                raise ValueError(\"Unsupported max_features string\")\n",
        "        elif isinstance(self.max_features, float):\n",
        "            self.max_features_ = int(self.max_features * self.n_features_)\n",
        "        else:\n",
        "            self.max_features_ = self.max_features\n",
        "\n",
        "        for _ in range(self.n_estimators):\n",
        "            tree = CustomDecisionTreeClassifier(max_depth=self.max_depth)\n",
        "            if self.bootstrap:\n",
        "                n_samples = X.shape[0]\n",
        "                indices = np.random.choice(n_samples, n_samples, replace=True)\n",
        "                sample_X = X[indices]\n",
        "                sample_y = y[indices]\n",
        "            else:\n",
        "                sample_X, sample_y = X, y\n",
        "\n",
        "            feature_indices = np.random.choice(self.n_features_, self.max_features_, replace=False)\n",
        "            tree.fit(sample_X[:, feature_indices], sample_y)\n",
        "            self.trees.append((tree, feature_indices))\n",
        "\n",
        "        return self\n",
        "\n",
        "    def predict(self, X):\n",
        "        check_array(X)\n",
        "        predictions = np.array([tree.predict(X[:, indices]) for tree, indices in self.trees])\n",
        "        return np.apply_along_axis(lambda x: np.argmax(np.bincount(x)), axis=0, arr=predictions)\n",
        "\n",
        "# Usage\n",
        "rf_clf = RandomForestClassifier(n_estimators=100, max_depth=6, random_state=42)\n",
        "\n",
        "# Before SMOTEENN\n",
        "X_train, X_test, y_train, y_test = train_test_split(X, y, test_size=0.3, random_state=42)\n",
        "rf_clf.fit(X_train, y_train)\n",
        "y_pred = rf_clf.predict(X_test)\n",
        "\n",
        "# Compute metrics\n",
        "print(\"Before SMOTEENN\")\n",
        "print(f\"Accuracy: {accuracy_score(y_test, y_pred)}\")\n",
        "print(classification_report(y_test, y_pred))\n",
        "\n",
        "# After SMOTEENN\n",
        "Xr_train, Xr_test, yr_train, yr_test = train_test_split(X_resampled, y_resampled, test_size=0.3, random_state=42)\n",
        "rf_clf.fit(Xr_train, yr_train)\n",
        "yr_pred = rf_clf.predict(Xr_test)\n",
        "\n",
        "# Compute metrics\n",
        "print(\"\\nAfter SMOTEENN\")\n",
        "print(f\"Accuracy: {accuracy_score(yr_test, yr_pred)}\")\n",
        "print(classification_report(yr_test, yr_pred))"
      ]
    },
    {
      "cell_type": "code",
      "execution_count": null,
      "id": "50a4152f-13d4-4b39-a4f8-eb8989d313bc",
      "metadata": {
        "id": "50a4152f-13d4-4b39-a4f8-eb8989d313bc"
      },
      "outputs": [],
      "source": []
    },
    {
      "cell_type": "code",
      "execution_count": null,
      "id": "4d88a004-7683-4e45-a09b-ef55eba7d8af",
      "metadata": {
        "id": "4d88a004-7683-4e45-a09b-ef55eba7d8af"
      },
      "outputs": [],
      "source": []
    }
  ],
  "metadata": {
    "colab": {
      "include_colab_link": true,
      "provenance": []
    },
    "kernelspec": {
      "display_name": "Python 3 (ipykernel)",
      "language": "python",
      "name": "python3"
    },
    "language_info": {
      "codemirror_mode": {
        "name": "ipython",
        "version": 3
      },
      "file_extension": ".py",
      "mimetype": "text/x-python",
      "name": "python",
      "nbconvert_exporter": "python",
      "pygments_lexer": "ipython3",
      "version": "3.12.4"
    }
  },
  "nbformat": 4,
  "nbformat_minor": 5
}
